{
 "cells": [
  {
   "cell_type": "code",
   "execution_count": 1,
   "metadata": {},
   "outputs": [],
   "source": [
    "#Import all the necessary modules\n",
    "import pandas as pd\n",
    "import warnings\n",
    "warnings.filterwarnings('ignore')\n",
    "%matplotlib inline\n",
    "import random\n",
    "import matplotlib.pyplot as plt\n",
    "import seaborn as sns \n",
    "import numpy as np \n",
    "import seaborn as sns\n",
    "from sklearn.model_selection import train_test_split\n",
    "from sklearn import metrics\n",
    "from sklearn.metrics import accuracy_score\n",
    "import copy\n",
    "from sklearn.ensemble import RandomForestClassifier\n",
    "from sklearn.feature_extraction.text import CountVectorizer\n",
    "from random import randint"
   ]
  },
  {
   "cell_type": "code",
   "execution_count": 2,
   "metadata": {},
   "outputs": [],
   "source": [
    "import re\n",
    "import nltk\n",
    "from nltk.tokenize import word_tokenize\n",
    "#nltk.download('punkt')\n",
    "from nltk.corpus import stopwords\n",
    "#nltk.download('stopwords')\n",
    "#stopwords.words('english')\n",
    "from nltk.stem import PorterStemmer\n",
    "from nltk.stem import WordNetLemmatizer"
   ]
  },
  {
   "cell_type": "code",
   "execution_count": 3,
   "metadata": {},
   "outputs": [
    {
     "data": {
      "text/html": [
       "<div>\n",
       "<style scoped>\n",
       "    .dataframe tbody tr th:only-of-type {\n",
       "        vertical-align: middle;\n",
       "    }\n",
       "\n",
       "    .dataframe tbody tr th {\n",
       "        vertical-align: top;\n",
       "    }\n",
       "\n",
       "    .dataframe thead th {\n",
       "        text-align: right;\n",
       "    }\n",
       "</style>\n",
       "<table border=\"1\" class=\"dataframe\">\n",
       "  <thead>\n",
       "    <tr style=\"text-align: right;\">\n",
       "      <th></th>\n",
       "      <th>Unnamed: 0</th>\n",
       "      <th>Data</th>\n",
       "      <th>Countries</th>\n",
       "      <th>Local</th>\n",
       "      <th>Industry Sector</th>\n",
       "      <th>Accident Level</th>\n",
       "      <th>Potential Accident Level</th>\n",
       "      <th>Genre</th>\n",
       "      <th>Employee or Third Party</th>\n",
       "      <th>Critical Risk</th>\n",
       "      <th>Description</th>\n",
       "    </tr>\n",
       "  </thead>\n",
       "  <tbody>\n",
       "    <tr>\n",
       "      <th>0</th>\n",
       "      <td>0</td>\n",
       "      <td>01-01-2016 00:00</td>\n",
       "      <td>Country_01</td>\n",
       "      <td>Local_01</td>\n",
       "      <td>Mining</td>\n",
       "      <td>I</td>\n",
       "      <td>IV</td>\n",
       "      <td>Male</td>\n",
       "      <td>Third Party</td>\n",
       "      <td>Pressed</td>\n",
       "      <td>While removing the drill rod of the Jumbo 08 f...</td>\n",
       "    </tr>\n",
       "    <tr>\n",
       "      <th>1</th>\n",
       "      <td>1</td>\n",
       "      <td>02-01-2016 00:00</td>\n",
       "      <td>Country_02</td>\n",
       "      <td>Local_02</td>\n",
       "      <td>Mining</td>\n",
       "      <td>I</td>\n",
       "      <td>IV</td>\n",
       "      <td>Male</td>\n",
       "      <td>Employee</td>\n",
       "      <td>Pressurized Systems</td>\n",
       "      <td>During the activation of a sodium sulphide pum...</td>\n",
       "    </tr>\n",
       "    <tr>\n",
       "      <th>2</th>\n",
       "      <td>2</td>\n",
       "      <td>06-01-2016 00:00</td>\n",
       "      <td>Country_01</td>\n",
       "      <td>Local_03</td>\n",
       "      <td>Mining</td>\n",
       "      <td>I</td>\n",
       "      <td>III</td>\n",
       "      <td>Male</td>\n",
       "      <td>Third Party (Remote)</td>\n",
       "      <td>Manual Tools</td>\n",
       "      <td>In the sub-station MILPO located at level +170...</td>\n",
       "    </tr>\n",
       "    <tr>\n",
       "      <th>3</th>\n",
       "      <td>3</td>\n",
       "      <td>08-01-2016 00:00</td>\n",
       "      <td>Country_01</td>\n",
       "      <td>Local_04</td>\n",
       "      <td>Mining</td>\n",
       "      <td>I</td>\n",
       "      <td>I</td>\n",
       "      <td>Male</td>\n",
       "      <td>Third Party</td>\n",
       "      <td>Others</td>\n",
       "      <td>Being 9:45 am. approximately in the Nv. 1880 C...</td>\n",
       "    </tr>\n",
       "    <tr>\n",
       "      <th>4</th>\n",
       "      <td>4</td>\n",
       "      <td>10-01-2016 00:00</td>\n",
       "      <td>Country_01</td>\n",
       "      <td>Local_04</td>\n",
       "      <td>Mining</td>\n",
       "      <td>IV</td>\n",
       "      <td>IV</td>\n",
       "      <td>Male</td>\n",
       "      <td>Third Party</td>\n",
       "      <td>Others</td>\n",
       "      <td>Approximately at 11:45 a.m. in circumstances t...</td>\n",
       "    </tr>\n",
       "  </tbody>\n",
       "</table>\n",
       "</div>"
      ],
      "text/plain": [
       "   Unnamed: 0              Data   Countries     Local Industry Sector  \\\n",
       "0           0  01-01-2016 00:00  Country_01  Local_01          Mining   \n",
       "1           1  02-01-2016 00:00  Country_02  Local_02          Mining   \n",
       "2           2  06-01-2016 00:00  Country_01  Local_03          Mining   \n",
       "3           3  08-01-2016 00:00  Country_01  Local_04          Mining   \n",
       "4           4  10-01-2016 00:00  Country_01  Local_04          Mining   \n",
       "\n",
       "  Accident Level Potential Accident Level Genre Employee or Third Party  \\\n",
       "0              I                       IV  Male             Third Party   \n",
       "1              I                       IV  Male                Employee   \n",
       "2              I                      III  Male    Third Party (Remote)   \n",
       "3              I                        I  Male             Third Party   \n",
       "4             IV                       IV  Male             Third Party   \n",
       "\n",
       "         Critical Risk                                        Description  \n",
       "0              Pressed  While removing the drill rod of the Jumbo 08 f...  \n",
       "1  Pressurized Systems  During the activation of a sodium sulphide pum...  \n",
       "2         Manual Tools  In the sub-station MILPO located at level +170...  \n",
       "3               Others  Being 9:45 am. approximately in the Nv. 1880 C...  \n",
       "4               Others  Approximately at 11:45 a.m. in circumstances t...  "
      ]
     },
     "execution_count": 3,
     "metadata": {},
     "output_type": "execute_result"
    }
   ],
   "source": [
    "industrial_safety_df = pd.read_csv(\"IHMStefanini_industrial_safety_and_health_database_with_accidents_description.csv\")\n",
    "industrial_safety_df.head()"
   ]
  },
  {
   "cell_type": "code",
   "execution_count": 4,
   "metadata": {},
   "outputs": [
    {
     "data": {
      "text/plain": [
       "(425, 11)"
      ]
     },
     "execution_count": 4,
     "metadata": {},
     "output_type": "execute_result"
    }
   ],
   "source": [
    "industrial_safety_df.shape"
   ]
  },
  {
   "cell_type": "markdown",
   "metadata": {},
   "source": [
    "### Grouping by Accident Level and Potential Accident Level "
   ]
  },
  {
   "cell_type": "code",
   "execution_count": 5,
   "metadata": {},
   "outputs": [
    {
     "data": {
      "text/html": [
       "<div>\n",
       "<style scoped>\n",
       "    .dataframe tbody tr th:only-of-type {\n",
       "        vertical-align: middle;\n",
       "    }\n",
       "\n",
       "    .dataframe tbody tr th {\n",
       "        vertical-align: top;\n",
       "    }\n",
       "\n",
       "    .dataframe thead th {\n",
       "        text-align: right;\n",
       "    }\n",
       "</style>\n",
       "<table border=\"1\" class=\"dataframe\">\n",
       "  <thead>\n",
       "    <tr style=\"text-align: right;\">\n",
       "      <th></th>\n",
       "      <th>Unnamed: 0</th>\n",
       "      <th>Data</th>\n",
       "      <th>Countries</th>\n",
       "      <th>Local</th>\n",
       "      <th>Industry Sector</th>\n",
       "      <th>Potential Accident Level</th>\n",
       "      <th>Genre</th>\n",
       "      <th>Employee or Third Party</th>\n",
       "      <th>Critical Risk</th>\n",
       "      <th>Description</th>\n",
       "    </tr>\n",
       "    <tr>\n",
       "      <th>Accident Level</th>\n",
       "      <th></th>\n",
       "      <th></th>\n",
       "      <th></th>\n",
       "      <th></th>\n",
       "      <th></th>\n",
       "      <th></th>\n",
       "      <th></th>\n",
       "      <th></th>\n",
       "      <th></th>\n",
       "      <th></th>\n",
       "    </tr>\n",
       "  </thead>\n",
       "  <tbody>\n",
       "    <tr>\n",
       "      <th>I</th>\n",
       "      <td>0</td>\n",
       "      <td>01-01-2016 00:00</td>\n",
       "      <td>Country_01</td>\n",
       "      <td>Local_01</td>\n",
       "      <td>Mining</td>\n",
       "      <td>IV</td>\n",
       "      <td>Male</td>\n",
       "      <td>Third Party</td>\n",
       "      <td>Pressed</td>\n",
       "      <td>While removing the drill rod of the Jumbo 08 f...</td>\n",
       "    </tr>\n",
       "    <tr>\n",
       "      <th>II</th>\n",
       "      <td>22</td>\n",
       "      <td>10-02-2016 00:00</td>\n",
       "      <td>Country_01</td>\n",
       "      <td>Local_03</td>\n",
       "      <td>Mining</td>\n",
       "      <td>IV</td>\n",
       "      <td>Male</td>\n",
       "      <td>Third Party</td>\n",
       "      <td>Others</td>\n",
       "      <td>While aligning the right bracket of tower N ° ...</td>\n",
       "    </tr>\n",
       "    <tr>\n",
       "      <th>III</th>\n",
       "      <td>16</td>\n",
       "      <td>06-02-2016 00:00</td>\n",
       "      <td>Country_01</td>\n",
       "      <td>Local_04</td>\n",
       "      <td>Mining</td>\n",
       "      <td>IV</td>\n",
       "      <td>Male</td>\n",
       "      <td>Third Party</td>\n",
       "      <td>Others</td>\n",
       "      <td>At Rp 050 of level 1620, in circumstances wher...</td>\n",
       "    </tr>\n",
       "    <tr>\n",
       "      <th>IV</th>\n",
       "      <td>4</td>\n",
       "      <td>10-01-2016 00:00</td>\n",
       "      <td>Country_01</td>\n",
       "      <td>Local_04</td>\n",
       "      <td>Mining</td>\n",
       "      <td>IV</td>\n",
       "      <td>Male</td>\n",
       "      <td>Third Party</td>\n",
       "      <td>Others</td>\n",
       "      <td>Approximately at 11:45 a.m. in circumstances t...</td>\n",
       "    </tr>\n",
       "    <tr>\n",
       "      <th>V</th>\n",
       "      <td>33</td>\n",
       "      <td>20-02-2016 00:00</td>\n",
       "      <td>Country_01</td>\n",
       "      <td>Local_04</td>\n",
       "      <td>Mining</td>\n",
       "      <td>V</td>\n",
       "      <td>Male</td>\n",
       "      <td>Third Party</td>\n",
       "      <td>Others</td>\n",
       "      <td>Approximately 1:40 p.m. in circumstances that ...</td>\n",
       "    </tr>\n",
       "  </tbody>\n",
       "</table>\n",
       "</div>"
      ],
      "text/plain": [
       "                Unnamed: 0              Data   Countries     Local  \\\n",
       "Accident Level                                                       \n",
       "I                        0  01-01-2016 00:00  Country_01  Local_01   \n",
       "II                      22  10-02-2016 00:00  Country_01  Local_03   \n",
       "III                     16  06-02-2016 00:00  Country_01  Local_04   \n",
       "IV                       4  10-01-2016 00:00  Country_01  Local_04   \n",
       "V                       33  20-02-2016 00:00  Country_01  Local_04   \n",
       "\n",
       "               Industry Sector Potential Accident Level Genre  \\\n",
       "Accident Level                                                  \n",
       "I                       Mining                       IV  Male   \n",
       "II                      Mining                       IV  Male   \n",
       "III                     Mining                       IV  Male   \n",
       "IV                      Mining                       IV  Male   \n",
       "V                       Mining                        V  Male   \n",
       "\n",
       "               Employee or Third Party Critical Risk  \\\n",
       "Accident Level                                         \n",
       "I                          Third Party       Pressed   \n",
       "II                         Third Party        Others   \n",
       "III                        Third Party        Others   \n",
       "IV                         Third Party        Others   \n",
       "V                          Third Party        Others   \n",
       "\n",
       "                                                      Description  \n",
       "Accident Level                                                     \n",
       "I               While removing the drill rod of the Jumbo 08 f...  \n",
       "II              While aligning the right bracket of tower N ° ...  \n",
       "III             At Rp 050 of level 1620, in circumstances wher...  \n",
       "IV              Approximately at 11:45 a.m. in circumstances t...  \n",
       "V               Approximately 1:40 p.m. in circumstances that ...  "
      ]
     },
     "execution_count": 5,
     "metadata": {},
     "output_type": "execute_result"
    }
   ],
   "source": [
    "group_acc_level = industrial_safety_df.groupby(['Accident Level'])\n",
    "group_acc_level.first()"
   ]
  },
  {
   "cell_type": "code",
   "execution_count": 6,
   "metadata": {},
   "outputs": [
    {
     "data": {
      "text/html": [
       "<div>\n",
       "<style scoped>\n",
       "    .dataframe tbody tr th:only-of-type {\n",
       "        vertical-align: middle;\n",
       "    }\n",
       "\n",
       "    .dataframe tbody tr th {\n",
       "        vertical-align: top;\n",
       "    }\n",
       "\n",
       "    .dataframe thead th {\n",
       "        text-align: right;\n",
       "    }\n",
       "</style>\n",
       "<table border=\"1\" class=\"dataframe\">\n",
       "  <thead>\n",
       "    <tr style=\"text-align: right;\">\n",
       "      <th></th>\n",
       "      <th>Unnamed: 0</th>\n",
       "      <th>Data</th>\n",
       "      <th>Countries</th>\n",
       "      <th>Local</th>\n",
       "      <th>Industry Sector</th>\n",
       "      <th>Accident Level</th>\n",
       "      <th>Genre</th>\n",
       "      <th>Employee or Third Party</th>\n",
       "      <th>Critical Risk</th>\n",
       "      <th>Description</th>\n",
       "    </tr>\n",
       "    <tr>\n",
       "      <th>Potential Accident Level</th>\n",
       "      <th></th>\n",
       "      <th></th>\n",
       "      <th></th>\n",
       "      <th></th>\n",
       "      <th></th>\n",
       "      <th></th>\n",
       "      <th></th>\n",
       "      <th></th>\n",
       "      <th></th>\n",
       "      <th></th>\n",
       "    </tr>\n",
       "  </thead>\n",
       "  <tbody>\n",
       "    <tr>\n",
       "      <th>I</th>\n",
       "      <td>3</td>\n",
       "      <td>08-01-2016 00:00</td>\n",
       "      <td>Country_01</td>\n",
       "      <td>Local_04</td>\n",
       "      <td>Mining</td>\n",
       "      <td>I</td>\n",
       "      <td>Male</td>\n",
       "      <td>Third Party</td>\n",
       "      <td>Others</td>\n",
       "      <td>Being 9:45 am. approximately in the Nv. 1880 C...</td>\n",
       "    </tr>\n",
       "    <tr>\n",
       "      <th>II</th>\n",
       "      <td>9</td>\n",
       "      <td>26-01-2016 00:00</td>\n",
       "      <td>Country_01</td>\n",
       "      <td>Local_06</td>\n",
       "      <td>Metals</td>\n",
       "      <td>I</td>\n",
       "      <td>Male</td>\n",
       "      <td>Third Party</td>\n",
       "      <td>Chemical substances</td>\n",
       "      <td>At the moment the forklift operator went to ma...</td>\n",
       "    </tr>\n",
       "    <tr>\n",
       "      <th>III</th>\n",
       "      <td>2</td>\n",
       "      <td>06-01-2016 00:00</td>\n",
       "      <td>Country_01</td>\n",
       "      <td>Local_03</td>\n",
       "      <td>Mining</td>\n",
       "      <td>I</td>\n",
       "      <td>Male</td>\n",
       "      <td>Third Party (Remote)</td>\n",
       "      <td>Manual Tools</td>\n",
       "      <td>In the sub-station MILPO located at level +170...</td>\n",
       "    </tr>\n",
       "    <tr>\n",
       "      <th>IV</th>\n",
       "      <td>0</td>\n",
       "      <td>01-01-2016 00:00</td>\n",
       "      <td>Country_01</td>\n",
       "      <td>Local_01</td>\n",
       "      <td>Mining</td>\n",
       "      <td>I</td>\n",
       "      <td>Male</td>\n",
       "      <td>Third Party</td>\n",
       "      <td>Pressed</td>\n",
       "      <td>While removing the drill rod of the Jumbo 08 f...</td>\n",
       "    </tr>\n",
       "    <tr>\n",
       "      <th>V</th>\n",
       "      <td>13</td>\n",
       "      <td>02-02-2016 00:00</td>\n",
       "      <td>Country_01</td>\n",
       "      <td>Local_01</td>\n",
       "      <td>Mining</td>\n",
       "      <td>IV</td>\n",
       "      <td>Male</td>\n",
       "      <td>Third Party</td>\n",
       "      <td>Electrical installation</td>\n",
       "      <td>In moments that the operator of the Jumbo 2, t...</td>\n",
       "    </tr>\n",
       "    <tr>\n",
       "      <th>VI</th>\n",
       "      <td>321</td>\n",
       "      <td>25-01-2017 00:00</td>\n",
       "      <td>Country_01</td>\n",
       "      <td>Local_03</td>\n",
       "      <td>Mining</td>\n",
       "      <td>V</td>\n",
       "      <td>Male</td>\n",
       "      <td>Third Party</td>\n",
       "      <td>remains of choco</td>\n",
       "      <td>During the process of loading drills in the Ca...</td>\n",
       "    </tr>\n",
       "  </tbody>\n",
       "</table>\n",
       "</div>"
      ],
      "text/plain": [
       "                          Unnamed: 0              Data   Countries     Local  \\\n",
       "Potential Accident Level                                                       \n",
       "I                                  3  08-01-2016 00:00  Country_01  Local_04   \n",
       "II                                 9  26-01-2016 00:00  Country_01  Local_06   \n",
       "III                                2  06-01-2016 00:00  Country_01  Local_03   \n",
       "IV                                 0  01-01-2016 00:00  Country_01  Local_01   \n",
       "V                                 13  02-02-2016 00:00  Country_01  Local_01   \n",
       "VI                               321  25-01-2017 00:00  Country_01  Local_03   \n",
       "\n",
       "                         Industry Sector Accident Level Genre  \\\n",
       "Potential Accident Level                                        \n",
       "I                                 Mining              I  Male   \n",
       "II                                Metals              I  Male   \n",
       "III                               Mining              I  Male   \n",
       "IV                                Mining              I  Male   \n",
       "V                                 Mining             IV  Male   \n",
       "VI                                Mining              V  Male   \n",
       "\n",
       "                         Employee or Third Party            Critical Risk  \\\n",
       "Potential Accident Level                                                    \n",
       "I                                    Third Party                   Others   \n",
       "II                                   Third Party      Chemical substances   \n",
       "III                         Third Party (Remote)             Manual Tools   \n",
       "IV                                   Third Party                  Pressed   \n",
       "V                                    Third Party  Electrical installation   \n",
       "VI                                   Third Party         remains of choco   \n",
       "\n",
       "                                                                Description  \n",
       "Potential Accident Level                                                     \n",
       "I                         Being 9:45 am. approximately in the Nv. 1880 C...  \n",
       "II                        At the moment the forklift operator went to ma...  \n",
       "III                       In the sub-station MILPO located at level +170...  \n",
       "IV                        While removing the drill rod of the Jumbo 08 f...  \n",
       "V                         In moments that the operator of the Jumbo 2, t...  \n",
       "VI                        During the process of loading drills in the Ca...  "
      ]
     },
     "execution_count": 6,
     "metadata": {},
     "output_type": "execute_result"
    }
   ],
   "source": [
    "group_ptnl_acc_level = industrial_safety_df.groupby(['Potential Accident Level'])\n",
    "group_ptnl_acc_level.first()"
   ]
  },
  {
   "cell_type": "markdown",
   "metadata": {},
   "source": [
    "### DataSet Analysis- Basic EDA"
   ]
  },
  {
   "cell_type": "code",
   "execution_count": 7,
   "metadata": {},
   "outputs": [
    {
     "data": {
      "image/png": "[encoded data removed]",
      "text/plain": [
       "<Figure size 432x288 with 1 Axes>"
      ]
     },
     "metadata": {
      "needs_background": "light"
     },
     "output_type": "display_data"
    }
   ],
   "source": [
    "sns.countplot(x ='Accident Level', data = industrial_safety_df, hue ='Industry Sector'); "
   ]
  },
  {
   "cell_type": "code",
   "execution_count": 8,
   "metadata": {},
   "outputs": [
    {
     "data": {
      "image/png": "[encoded data removed]",
      "text/plain": [
       "<Figure size 432x288 with 1 Axes>"
      ]
     },
     "metadata": {
      "needs_background": "light"
     },
     "output_type": "display_data"
    }
   ],
   "source": [
    "sns.countplot(x ='Potential Accident Level', data = industrial_safety_df, hue ='Industry Sector'); "
   ]
  },
  {
   "cell_type": "code",
   "execution_count": 9,
   "metadata": {},
   "outputs": [
    {
     "data": {
      "image/png": "[encoded data removed]",
      "text/plain": [
       "<Figure size 432x288 with 1 Axes>"
      ]
     },
     "metadata": {
      "needs_background": "light"
     },
     "output_type": "display_data"
    }
   ],
   "source": [
    "sns.countplot(x ='Accident Level', data = industrial_safety_df, hue ='Genre'); "
   ]
  },
  {
   "cell_type": "code",
   "execution_count": 10,
   "metadata": {},
   "outputs": [
    {
     "data": {
      "image/png": "[encoded data removed]",
      "text/plain": [
       "<Figure size 432x288 with 1 Axes>"
      ]
     },
     "metadata": {
      "needs_background": "light"
     },
     "output_type": "display_data"
    }
   ],
   "source": [
    "sns.countplot(x ='Potential Accident Level', data = industrial_safety_df, hue ='Genre'); "
   ]
  },
  {
   "cell_type": "code",
   "execution_count": 11,
   "metadata": {},
   "outputs": [
    {
     "data": {
      "image/png": "[encoded data removed]",
      "text/plain": [
       "<Figure size 1080x720 with 1 Axes>"
      ]
     },
     "metadata": {
      "needs_background": "light"
     },
     "output_type": "display_data"
    }
   ],
   "source": [
    "plt.figure(figsize=(15,10))\n",
    "plt.setp(sns.countplot(industrial_safety_df['Critical Risk']).get_xticklabels(), rotation=90);"
   ]
  },
  {
   "cell_type": "code",
   "execution_count": 12,
   "metadata": {},
   "outputs": [
    {
     "data": {
      "image/png": "[encoded data removed]",
      "text/plain": [
       "<Figure size 1080x720 with 1 Axes>"
      ]
     },
     "metadata": {
      "needs_background": "light"
     },
     "output_type": "display_data"
    }
   ],
   "source": [
    "plt.figure(figsize=(15,10))\n",
    "sns.countplot(industrial_safety_df['Local'], hue = industrial_safety_df['Accident Level']);"
   ]
  },
  {
   "cell_type": "markdown",
   "metadata": {},
   "source": [
    " - #### Labeling The Dataset\n",
    " > As per the dataset there are 1-6 level of Accident Level, here we have labeled 1-2 as low risk, 3-4 moderate risk and 5-6 critical risk "
   ]
  },
  {
   "cell_type": "code",
   "execution_count": 13,
   "metadata": {},
   "outputs": [
    {
     "data": {
      "text/html": [
       "<div>\n",
       "<style scoped>\n",
       "    .dataframe tbody tr th:only-of-type {\n",
       "        vertical-align: middle;\n",
       "    }\n",
       "\n",
       "    .dataframe tbody tr th {\n",
       "        vertical-align: top;\n",
       "    }\n",
       "\n",
       "    .dataframe thead th {\n",
       "        text-align: right;\n",
       "    }\n",
       "</style>\n",
       "<table border=\"1\" class=\"dataframe\">\n",
       "  <thead>\n",
       "    <tr style=\"text-align: right;\">\n",
       "      <th></th>\n",
       "      <th>Accident Level</th>\n",
       "      <th>Accident Severity</th>\n",
       "    </tr>\n",
       "  </thead>\n",
       "  <tbody>\n",
       "    <tr>\n",
       "      <th>0</th>\n",
       "      <td>I</td>\n",
       "      <td>low</td>\n",
       "    </tr>\n",
       "    <tr>\n",
       "      <th>1</th>\n",
       "      <td>I</td>\n",
       "      <td>low</td>\n",
       "    </tr>\n",
       "    <tr>\n",
       "      <th>2</th>\n",
       "      <td>I</td>\n",
       "      <td>low</td>\n",
       "    </tr>\n",
       "    <tr>\n",
       "      <th>3</th>\n",
       "      <td>I</td>\n",
       "      <td>low</td>\n",
       "    </tr>\n",
       "    <tr>\n",
       "      <th>4</th>\n",
       "      <td>IV</td>\n",
       "      <td>high</td>\n",
       "    </tr>\n",
       "    <tr>\n",
       "      <th>...</th>\n",
       "      <td>...</td>\n",
       "      <td>...</td>\n",
       "    </tr>\n",
       "    <tr>\n",
       "      <th>420</th>\n",
       "      <td>I</td>\n",
       "      <td>low</td>\n",
       "    </tr>\n",
       "    <tr>\n",
       "      <th>421</th>\n",
       "      <td>I</td>\n",
       "      <td>low</td>\n",
       "    </tr>\n",
       "    <tr>\n",
       "      <th>422</th>\n",
       "      <td>I</td>\n",
       "      <td>low</td>\n",
       "    </tr>\n",
       "    <tr>\n",
       "      <th>423</th>\n",
       "      <td>I</td>\n",
       "      <td>low</td>\n",
       "    </tr>\n",
       "    <tr>\n",
       "      <th>424</th>\n",
       "      <td>I</td>\n",
       "      <td>low</td>\n",
       "    </tr>\n",
       "  </tbody>\n",
       "</table>\n",
       "<p>425 rows × 2 columns</p>\n",
       "</div>"
      ],
      "text/plain": [
       "    Accident Level Accident Severity\n",
       "0                I               low\n",
       "1                I               low\n",
       "2                I               low\n",
       "3                I               low\n",
       "4               IV              high\n",
       "..             ...               ...\n",
       "420              I               low\n",
       "421              I               low\n",
       "422              I               low\n",
       "423              I               low\n",
       "424              I               low\n",
       "\n",
       "[425 rows x 2 columns]"
      ]
     },
     "execution_count": 13,
     "metadata": {},
     "output_type": "execute_result"
    }
   ],
   "source": [
    "def create_label(accident_level):\n",
    "    level = str(accident_level)\n",
    "    if level.__eq__(\"I\") or level.__eq__(\"II\"):\n",
    "        return \"low\"\n",
    "    if level.__eq__(\"III\"):\n",
    "        return \"moderate\"\n",
    "    if level.__eq__(\"IV\") or level.__eq__(\"V\"):\n",
    "        return \"high\"\n",
    "    if level.__eq__(\"VI\"):\n",
    "        return \"critical\"\n",
    "    \n",
    "industrial_safety_df['Accident Severity'] = industrial_safety_df['Accident Level'].apply(create_label)\n",
    "industrial_safety_df[['Accident Level','Accident Severity']]"
   ]
  },
  {
   "cell_type": "markdown",
   "metadata": {},
   "source": [
    "#### We can see that the Mining Sector is the most risky as the most number of accidents recorded in that sector followed by Metals"
   ]
  },
  {
   "cell_type": "markdown",
   "metadata": {},
   "source": [
    "### Data Cleansing\n",
    " "
   ]
  },
  {
   "cell_type": "code",
   "execution_count": 14,
   "metadata": {},
   "outputs": [
    {
     "data": {
      "text/html": [
       "<div>\n",
       "<style scoped>\n",
       "    .dataframe tbody tr th:only-of-type {\n",
       "        vertical-align: middle;\n",
       "    }\n",
       "\n",
       "    .dataframe tbody tr th {\n",
       "        vertical-align: top;\n",
       "    }\n",
       "\n",
       "    .dataframe thead th {\n",
       "        text-align: right;\n",
       "    }\n",
       "</style>\n",
       "<table border=\"1\" class=\"dataframe\">\n",
       "  <thead>\n",
       "    <tr style=\"text-align: right;\">\n",
       "      <th></th>\n",
       "      <th>Date</th>\n",
       "      <th>Countries</th>\n",
       "      <th>Local</th>\n",
       "      <th>Industry Sector</th>\n",
       "      <th>Accident Level</th>\n",
       "      <th>Potential Accident Level</th>\n",
       "      <th>Gender</th>\n",
       "      <th>Employee or Third Party</th>\n",
       "      <th>Critical Risk</th>\n",
       "      <th>Description</th>\n",
       "      <th>Accident Severity</th>\n",
       "    </tr>\n",
       "  </thead>\n",
       "  <tbody>\n",
       "    <tr>\n",
       "      <th>0</th>\n",
       "      <td>01-01-2016 00:00</td>\n",
       "      <td>Country_01</td>\n",
       "      <td>Local_01</td>\n",
       "      <td>Mining</td>\n",
       "      <td>I</td>\n",
       "      <td>IV</td>\n",
       "      <td>Male</td>\n",
       "      <td>Third Party</td>\n",
       "      <td>Pressed</td>\n",
       "      <td>While removing the drill rod of the Jumbo 08 f...</td>\n",
       "      <td>low</td>\n",
       "    </tr>\n",
       "    <tr>\n",
       "      <th>1</th>\n",
       "      <td>02-01-2016 00:00</td>\n",
       "      <td>Country_02</td>\n",
       "      <td>Local_02</td>\n",
       "      <td>Mining</td>\n",
       "      <td>I</td>\n",
       "      <td>IV</td>\n",
       "      <td>Male</td>\n",
       "      <td>Employee</td>\n",
       "      <td>Pressurized Systems</td>\n",
       "      <td>During the activation of a sodium sulphide pum...</td>\n",
       "      <td>low</td>\n",
       "    </tr>\n",
       "    <tr>\n",
       "      <th>2</th>\n",
       "      <td>06-01-2016 00:00</td>\n",
       "      <td>Country_01</td>\n",
       "      <td>Local_03</td>\n",
       "      <td>Mining</td>\n",
       "      <td>I</td>\n",
       "      <td>III</td>\n",
       "      <td>Male</td>\n",
       "      <td>Third Party (Remote)</td>\n",
       "      <td>Manual Tools</td>\n",
       "      <td>In the sub-station MILPO located at level +170...</td>\n",
       "      <td>low</td>\n",
       "    </tr>\n",
       "    <tr>\n",
       "      <th>3</th>\n",
       "      <td>08-01-2016 00:00</td>\n",
       "      <td>Country_01</td>\n",
       "      <td>Local_04</td>\n",
       "      <td>Mining</td>\n",
       "      <td>I</td>\n",
       "      <td>I</td>\n",
       "      <td>Male</td>\n",
       "      <td>Third Party</td>\n",
       "      <td>Others</td>\n",
       "      <td>Being 9:45 am. approximately in the Nv. 1880 C...</td>\n",
       "      <td>low</td>\n",
       "    </tr>\n",
       "    <tr>\n",
       "      <th>4</th>\n",
       "      <td>10-01-2016 00:00</td>\n",
       "      <td>Country_01</td>\n",
       "      <td>Local_04</td>\n",
       "      <td>Mining</td>\n",
       "      <td>IV</td>\n",
       "      <td>IV</td>\n",
       "      <td>Male</td>\n",
       "      <td>Third Party</td>\n",
       "      <td>Others</td>\n",
       "      <td>Approximately at 11:45 a.m. in circumstances t...</td>\n",
       "      <td>high</td>\n",
       "    </tr>\n",
       "  </tbody>\n",
       "</table>\n",
       "</div>"
      ],
      "text/plain": [
       "               Date   Countries     Local Industry Sector Accident Level  \\\n",
       "0  01-01-2016 00:00  Country_01  Local_01          Mining              I   \n",
       "1  02-01-2016 00:00  Country_02  Local_02          Mining              I   \n",
       "2  06-01-2016 00:00  Country_01  Local_03          Mining              I   \n",
       "3  08-01-2016 00:00  Country_01  Local_04          Mining              I   \n",
       "4  10-01-2016 00:00  Country_01  Local_04          Mining             IV   \n",
       "\n",
       "  Potential Accident Level Gender Employee or Third Party  \\\n",
       "0                       IV   Male             Third Party   \n",
       "1                       IV   Male                Employee   \n",
       "2                      III   Male    Third Party (Remote)   \n",
       "3                        I   Male             Third Party   \n",
       "4                       IV   Male             Third Party   \n",
       "\n",
       "         Critical Risk                                        Description  \\\n",
       "0              Pressed  While removing the drill rod of the Jumbo 08 f...   \n",
       "1  Pressurized Systems  During the activation of a sodium sulphide pum...   \n",
       "2         Manual Tools  In the sub-station MILPO located at level +170...   \n",
       "3               Others  Being 9:45 am. approximately in the Nv. 1880 C...   \n",
       "4               Others  Approximately at 11:45 a.m. in circumstances t...   \n",
       "\n",
       "  Accident Severity  \n",
       "0               low  \n",
       "1               low  \n",
       "2               low  \n",
       "3               low  \n",
       "4              high  "
      ]
     },
     "execution_count": 14,
     "metadata": {},
     "output_type": "execute_result"
    }
   ],
   "source": [
    "#Renaming Data -> date, Genre -> Gender\n",
    "#Removing the Column Unnamed as it's just sequence\n",
    "\n",
    "industrial_safety_df.rename(columns = {'Data': 'Date', 'Genre': 'Gender'}, inplace = True)\n",
    "industrial_safety_df = industrial_safety_df.drop(\"Unnamed: 0\",axis=1)\n",
    "industrial_safety_df.head()\n"
   ]
  },
  {
   "cell_type": "code",
   "execution_count": 15,
   "metadata": {},
   "outputs": [
    {
     "data": {
      "text/html": [
       "<div>\n",
       "<style scoped>\n",
       "    .dataframe tbody tr th:only-of-type {\n",
       "        vertical-align: middle;\n",
       "    }\n",
       "\n",
       "    .dataframe tbody tr th {\n",
       "        vertical-align: top;\n",
       "    }\n",
       "\n",
       "    .dataframe thead th {\n",
       "        text-align: right;\n",
       "    }\n",
       "</style>\n",
       "<table border=\"1\" class=\"dataframe\">\n",
       "  <thead>\n",
       "    <tr style=\"text-align: right;\">\n",
       "      <th></th>\n",
       "      <th>Date</th>\n",
       "      <th>Countries</th>\n",
       "      <th>Local</th>\n",
       "      <th>Industry Sector</th>\n",
       "      <th>Accident Level</th>\n",
       "      <th>Potential Accident Level</th>\n",
       "      <th>Gender</th>\n",
       "      <th>Employee or Third Party</th>\n",
       "      <th>Critical Risk</th>\n",
       "      <th>Description</th>\n",
       "      <th>Accident Severity</th>\n",
       "    </tr>\n",
       "  </thead>\n",
       "  <tbody>\n",
       "    <tr>\n",
       "      <th>count</th>\n",
       "      <td>425</td>\n",
       "      <td>425</td>\n",
       "      <td>425</td>\n",
       "      <td>425</td>\n",
       "      <td>425</td>\n",
       "      <td>425</td>\n",
       "      <td>425</td>\n",
       "      <td>425</td>\n",
       "      <td>425</td>\n",
       "      <td>425</td>\n",
       "      <td>425</td>\n",
       "    </tr>\n",
       "    <tr>\n",
       "      <th>unique</th>\n",
       "      <td>287</td>\n",
       "      <td>3</td>\n",
       "      <td>12</td>\n",
       "      <td>3</td>\n",
       "      <td>5</td>\n",
       "      <td>6</td>\n",
       "      <td>2</td>\n",
       "      <td>3</td>\n",
       "      <td>33</td>\n",
       "      <td>411</td>\n",
       "      <td>3</td>\n",
       "    </tr>\n",
       "    <tr>\n",
       "      <th>top</th>\n",
       "      <td>08-02-2017 00:00</td>\n",
       "      <td>Country_01</td>\n",
       "      <td>Local_03</td>\n",
       "      <td>Mining</td>\n",
       "      <td>I</td>\n",
       "      <td>IV</td>\n",
       "      <td>Male</td>\n",
       "      <td>Third Party</td>\n",
       "      <td>Others</td>\n",
       "      <td>During the activity of chuteo of ore in hopper...</td>\n",
       "      <td>low</td>\n",
       "    </tr>\n",
       "    <tr>\n",
       "      <th>freq</th>\n",
       "      <td>6</td>\n",
       "      <td>251</td>\n",
       "      <td>90</td>\n",
       "      <td>241</td>\n",
       "      <td>316</td>\n",
       "      <td>143</td>\n",
       "      <td>403</td>\n",
       "      <td>189</td>\n",
       "      <td>232</td>\n",
       "      <td>3</td>\n",
       "      <td>356</td>\n",
       "    </tr>\n",
       "  </tbody>\n",
       "</table>\n",
       "</div>"
      ],
      "text/plain": [
       "                    Date   Countries     Local Industry Sector Accident Level  \\\n",
       "count                425         425       425             425            425   \n",
       "unique               287           3        12               3              5   \n",
       "top     08-02-2017 00:00  Country_01  Local_03          Mining              I   \n",
       "freq                   6         251        90             241            316   \n",
       "\n",
       "       Potential Accident Level Gender Employee or Third Party Critical Risk  \\\n",
       "count                       425    425                     425           425   \n",
       "unique                        6      2                       3            33   \n",
       "top                          IV   Male             Third Party        Others   \n",
       "freq                        143    403                     189           232   \n",
       "\n",
       "                                              Description Accident Severity  \n",
       "count                                                 425               425  \n",
       "unique                                                411                 3  \n",
       "top     During the activity of chuteo of ore in hopper...               low  \n",
       "freq                                                    3               356  "
      ]
     },
     "execution_count": 15,
     "metadata": {},
     "output_type": "execute_result"
    }
   ],
   "source": [
    "industrial_safety_df.describe()"
   ]
  },
  {
   "cell_type": "code",
   "execution_count": 16,
   "metadata": {},
   "outputs": [
    {
     "data": {
      "text/plain": [
       "Date                        0\n",
       "Countries                   0\n",
       "Local                       0\n",
       "Industry Sector             0\n",
       "Accident Level              0\n",
       "Potential Accident Level    0\n",
       "Gender                      0\n",
       "Employee or Third Party     0\n",
       "Critical Risk               0\n",
       "Description                 0\n",
       "Accident Severity           0\n",
       "dtype: int64"
      ]
     },
     "execution_count": 16,
     "metadata": {},
     "output_type": "execute_result"
    }
   ],
   "source": [
    "industrial_safety_df.isnull().sum()"
   ]
  },
  {
   "cell_type": "code",
   "execution_count": 17,
   "metadata": {},
   "outputs": [
    {
     "data": {
      "text/plain": [
       "Date                        object\n",
       "Countries                   object\n",
       "Local                       object\n",
       "Industry Sector             object\n",
       "Accident Level              object\n",
       "Potential Accident Level    object\n",
       "Gender                      object\n",
       "Employee or Third Party     object\n",
       "Critical Risk               object\n",
       "Description                 object\n",
       "Accident Severity           object\n",
       "dtype: object"
      ]
     },
     "execution_count": 17,
     "metadata": {},
     "output_type": "execute_result"
    }
   ],
   "source": [
    "industrial_safety_df.dtypes"
   ]
  },
  {
   "cell_type": "markdown",
   "metadata": {},
   "source": [
    "### Pre-Processing the Text "
   ]
  },
  {
   "cell_type": "markdown",
   "metadata": {},
   "source": [
    "- #### Removing all irrelevant characters (Numbers and Punctuation)"
   ]
  },
  {
   "cell_type": "code",
   "execution_count": 18,
   "metadata": {},
   "outputs": [
    {
     "data": {
      "text/plain": [
       "0      While removing the drill rod of the Jumbo    f...\n",
       "1      During the activation of a sodium sulphide pum...\n",
       "2      In the sub station MILPO located at level     ...\n",
       "3      Being      am  approximately in the Nv       C...\n",
       "4      Approximately at       a m  in circumstances t...\n",
       "                             ...                        \n",
       "420    Being approximately      a m  approximately  w...\n",
       "421    The collaborator moved from the infrastructure...\n",
       "422    During the environmental monitoring activity i...\n",
       "423    The Employee performed the activity of strippi...\n",
       "424    At       a m   when the assistant cleaned the ...\n",
       "Name: Updated Description, Length: 425, dtype: object"
      ]
     },
     "execution_count": 18,
     "metadata": {},
     "output_type": "execute_result"
    }
   ],
   "source": [
    "def remove_alpha_numerics(description_txt):\n",
    "    return re.sub('[^a-zA-Z]',' ',description_txt)\n",
    "industrial_safety_df['Updated Description'] = industrial_safety_df['Description'].apply(remove_alpha_numerics)\n",
    "industrial_safety_df['Updated Description']"
   ]
  },
  {
   "cell_type": "markdown",
   "metadata": {},
   "source": [
    "- #### Convert all characters into lowercase"
   ]
  },
  {
   "cell_type": "code",
   "execution_count": 19,
   "metadata": {},
   "outputs": [
    {
     "data": {
      "text/plain": [
       "0      while removing the drill rod of the jumbo    f...\n",
       "1      during the activation of a sodium sulphide pum...\n",
       "2      in the sub station milpo located at level     ...\n",
       "3      being      am  approximately in the nv       c...\n",
       "4      approximately at       a m  in circumstances t...\n",
       "                             ...                        \n",
       "420    being approximately      a m  approximately  w...\n",
       "421    the collaborator moved from the infrastructure...\n",
       "422    during the environmental monitoring activity i...\n",
       "423    the employee performed the activity of strippi...\n",
       "424    at       a m   when the assistant cleaned the ...\n",
       "Name: Updated Description, Length: 425, dtype: object"
      ]
     },
     "execution_count": 19,
     "metadata": {},
     "output_type": "execute_result"
    }
   ],
   "source": [
    "def to_lower_case(description_txt):\n",
    "    return str(description_txt).lower()\n",
    "industrial_safety_df['Updated Description'] = industrial_safety_df['Updated Description'].apply(to_lower_case)\n",
    "industrial_safety_df['Updated Description']"
   ]
  },
  {
   "cell_type": "markdown",
   "metadata": {},
   "source": [
    "- #### Tokenization "
   ]
  },
  {
   "cell_type": "code",
   "execution_count": 20,
   "metadata": {},
   "outputs": [
    {
     "data": {
      "text/plain": [
       "0      [while, removing, the, drill, rod, of, the, ju...\n",
       "1      [during, the, activation, of, a, sodium, sulph...\n",
       "2      [in, the, sub, station, milpo, located, at, le...\n",
       "3      [being, am, approximately, in, the, nv, cx, ob...\n",
       "4      [approximately, at, a, m, in, circumstances, t...\n",
       "                             ...                        \n",
       "420    [being, approximately, a, m, approximately, wh...\n",
       "421    [the, collaborator, moved, from, the, infrastr...\n",
       "422    [during, the, environmental, monitoring, activ...\n",
       "423    [the, employee, performed, the, activity, of, ...\n",
       "424    [at, a, m, when, the, assistant, cleaned, the,...\n",
       "Name: Updated Description, Length: 425, dtype: object"
      ]
     },
     "execution_count": 20,
     "metadata": {},
     "output_type": "execute_result"
    }
   ],
   "source": [
    "industrial_safety_df['Updated Description'] = industrial_safety_df.apply(lambda word: nltk.word_tokenize(word['Updated Description']), axis=1)\n",
    "industrial_safety_df['Updated Description']"
   ]
  },
  {
   "cell_type": "markdown",
   "metadata": {},
   "source": [
    "- #### Removing Stopwords"
   ]
  },
  {
   "cell_type": "code",
   "execution_count": 21,
   "metadata": {},
   "outputs": [
    {
     "data": {
      "text/plain": [
       "0      [removing, drill, rod, jumbo, maintenance, sup...\n",
       "1      [activation, sodium, sulphide, pump, piping, u...\n",
       "2      [sub, station, milpo, located, level, collabor...\n",
       "3      [approximately, nv, cx, ob, personnel, begins,...\n",
       "4      [approximately, circumstances, mechanics, anth...\n",
       "                             ...                        \n",
       "420    [approximately, approximately, lifting, kelly,...\n",
       "421    [collaborator, moved, infrastructure, office, ...\n",
       "422    [environmental, monitoring, activity, area, em...\n",
       "423    [employee, performed, activity, stripping, cat...\n",
       "424    [assistant, cleaned, floor, module, e, central...\n",
       "Name: Updated Description, Length: 425, dtype: object"
      ]
     },
     "execution_count": 21,
     "metadata": {},
     "output_type": "execute_result"
    }
   ],
   "source": [
    "stop_words = set(stopwords.words('english'))\n",
    "def remove_stopwords(word):\n",
    "    return [token for token in word if not token in stop_words]\n",
    "    \n",
    "industrial_safety_df['Updated Description'] = industrial_safety_df['Updated Description'].apply(remove_stopwords)\n",
    "industrial_safety_df['Updated Description']"
   ]
  },
  {
   "cell_type": "markdown",
   "metadata": {},
   "source": [
    "- #### Stemming"
   ]
  },
  {
   "cell_type": "code",
   "execution_count": 22,
   "metadata": {},
   "outputs": [
    {
     "data": {
      "text/plain": [
       "0      [remov, drill, rod, jumbo, mainten, supervisor...\n",
       "1      [activ, sodium, sulphid, pump, pipe, uncoupl, ...\n",
       "2      [sub, station, milpo, locat, level, collabor, ...\n",
       "3      [approxim, nv, cx, ob, personnel, begin, task,...\n",
       "4      [approxim, circumst, mechan, anthoni, group, l...\n",
       "                             ...                        \n",
       "420    [approxim, approxim, lift, kelli, hq, toward, ...\n",
       "421    [collabor, move, infrastructur, offic, julio, ...\n",
       "422    [environment, monitor, activ, area, employe, s...\n",
       "423    [employe, perform, activ, strip, cathod, pull,...\n",
       "424    [assist, clean, floor, modul, e, central, camp...\n",
       "Name: Updated Description Stems, Length: 425, dtype: object"
      ]
     },
     "execution_count": 22,
     "metadata": {},
     "output_type": "execute_result"
    }
   ],
   "source": [
    "stemmer = PorterStemmer()\n",
    "def stem_tokens(tokens):\n",
    "    return [stemmer.stem(index) for index in tokens]\n",
    "industrial_safety_df['Updated Description Stems'] = industrial_safety_df['Updated Description'].apply(stem_tokens)\n",
    "industrial_safety_df['Updated Description Stems']"
   ]
  },
  {
   "cell_type": "markdown",
   "metadata": {},
   "source": [
    "#### As we can see due to stemming changed some of the words incorrectly, so we will do Lemmatization and compare"
   ]
  },
  {
   "cell_type": "markdown",
   "metadata": {},
   "source": [
    "- #### Lemmatization"
   ]
  },
  {
   "cell_type": "code",
   "execution_count": 23,
   "metadata": {},
   "outputs": [
    {
     "data": {
      "text/plain": [
       "0      [remove, drill, rod, jumbo, maintenance, super...\n",
       "1      [activation, sodium, sulphide, pump, pip, unco...\n",
       "2      [sub, station, milpo, locate, level, collabora...\n",
       "3      [approximately, nv, cx, ob, personnel, begin, ...\n",
       "4      [approximately, circumstances, mechanics, anth...\n",
       "                             ...                        \n",
       "420    [approximately, approximately, lift, kelly, hq...\n",
       "421    [collaborator, move, infrastructure, office, j...\n",
       "422    [environmental, monitor, activity, area, emplo...\n",
       "423    [employee, perform, activity, strip, cathodes,...\n",
       "424    [assistant, clean, floor, module, e, central, ...\n",
       "Name: Updated Description Lemmas, Length: 425, dtype: object"
      ]
     },
     "execution_count": 23,
     "metadata": {},
     "output_type": "execute_result"
    }
   ],
   "source": [
    "#nltk.download('wordnet')\n",
    "lemma = WordNetLemmatizer()\n",
    "def lematize_tokens(tokens):\n",
    "    return [lemma.lemmatize(word=w,pos='v') for w in tokens]\n",
    "industrial_safety_df['Updated Description Lemmas'] = industrial_safety_df['Updated Description'].apply(lematize_tokens)\n",
    "industrial_safety_df['Updated Description Lemmas']"
   ]
  },
  {
   "cell_type": "markdown",
   "metadata": {},
   "source": [
    "- #### As we can see Lemmatization performed much better than the stemming so we will preffer lemmatization here "
   ]
  },
  {
   "cell_type": "markdown",
   "metadata": {},
   "source": [
    "#### Remove the words having length <= 2"
   ]
  },
  {
   "cell_type": "code",
   "execution_count": 24,
   "metadata": {},
   "outputs": [
    {
     "data": {
      "text/plain": [
       "0      [remove, drill, rod, jumbo, maintenance, super...\n",
       "1      [activation, sodium, sulphide, pump, pip, unco...\n",
       "2      [sub, station, milpo, locate, level, collabora...\n",
       "3      [approximately, personnel, begin, task, unlock...\n",
       "4      [approximately, circumstances, mechanics, anth...\n",
       "                             ...                        \n",
       "420    [approximately, approximately, lift, kelly, to...\n",
       "421    [collaborator, move, infrastructure, office, j...\n",
       "422    [environmental, monitor, activity, area, emplo...\n",
       "423    [employee, perform, activity, strip, cathodes,...\n",
       "424    [assistant, clean, floor, module, central, cam...\n",
       "Name: Updated Description Lemmas, Length: 425, dtype: object"
      ]
     },
     "execution_count": 24,
     "metadata": {},
     "output_type": "execute_result"
    }
   ],
   "source": [
    "# still few nonsense words exist in the lemmatized tokens\n",
    "# we are going to remove those as they can be noise to the data\n",
    "def remove_noise(tokens):\n",
    "    return [i for i in tokens if len(i) > 2]\n",
    "industrial_safety_df['Updated Description Lemmas'] = industrial_safety_df['Updated Description Lemmas'].apply(remove_noise)\n",
    "industrial_safety_df['Updated Description Lemmas']"
   ]
  },
  {
   "cell_type": "markdown",
   "metadata": {},
   "source": [
    "- So this is the required corpus after text preprocessing. \n",
    "- now we will convert back this list to string for encoding the text."
   ]
  },
  {
   "cell_type": "markdown",
   "metadata": {},
   "source": [
    "### Final Text Data After Preprocessing"
   ]
  },
  {
   "cell_type": "code",
   "execution_count": 25,
   "metadata": {},
   "outputs": [
    {
     "data": {
      "text/plain": [
       "0      remove drill rod jumbo maintenance supervisor ...\n",
       "1      activation sodium sulphide pump pip uncouple s...\n",
       "2      sub station milpo locate level collaborator ex...\n",
       "3      approximately personnel begin task unlock soqu...\n",
       "4      approximately circumstances mechanics anthony ...\n",
       "                             ...                        \n",
       "420    approximately approximately lift kelly towards...\n",
       "421    collaborator move infrastructure office julio ...\n",
       "422    environmental monitor activity area employee s...\n",
       "423    employee perform activity strip cathodes pull ...\n",
       "424    assistant clean floor module central camp slip...\n",
       "Name: Updated Description, Length: 425, dtype: object"
      ]
     },
     "execution_count": 25,
     "metadata": {},
     "output_type": "execute_result"
    }
   ],
   "source": [
    "#Convert the list of tokens into back to the string\n",
    "def to_string(tokens):\n",
    "    return ' '.join(tokens)\n",
    "industrial_safety_df['Updated Description'] = industrial_safety_df['Updated Description Lemmas'].apply(to_string)\n",
    "industrial_safety_df['Updated Description']"
   ]
  },
  {
   "cell_type": "code",
   "execution_count": 26,
   "metadata": {},
   "outputs": [
    {
     "data": {
      "text/html": [
       "<div>\n",
       "<style scoped>\n",
       "    .dataframe tbody tr th:only-of-type {\n",
       "        vertical-align: middle;\n",
       "    }\n",
       "\n",
       "    .dataframe tbody tr th {\n",
       "        vertical-align: top;\n",
       "    }\n",
       "\n",
       "    .dataframe thead th {\n",
       "        text-align: right;\n",
       "    }\n",
       "</style>\n",
       "<table border=\"1\" class=\"dataframe\">\n",
       "  <thead>\n",
       "    <tr style=\"text-align: right;\">\n",
       "      <th></th>\n",
       "      <th>Date</th>\n",
       "      <th>Countries</th>\n",
       "      <th>Local</th>\n",
       "      <th>Industry Sector</th>\n",
       "      <th>Accident Level</th>\n",
       "      <th>Potential Accident Level</th>\n",
       "      <th>Gender</th>\n",
       "      <th>Employee or Third Party</th>\n",
       "      <th>Critical Risk</th>\n",
       "      <th>Description</th>\n",
       "      <th>Accident Severity</th>\n",
       "      <th>Updated Description</th>\n",
       "      <th>Updated Description Stems</th>\n",
       "      <th>Updated Description Lemmas</th>\n",
       "    </tr>\n",
       "  </thead>\n",
       "  <tbody>\n",
       "    <tr>\n",
       "      <th>0</th>\n",
       "      <td>01-01-2016 00:00</td>\n",
       "      <td>Country_01</td>\n",
       "      <td>Local_01</td>\n",
       "      <td>Mining</td>\n",
       "      <td>I</td>\n",
       "      <td>IV</td>\n",
       "      <td>Male</td>\n",
       "      <td>Third Party</td>\n",
       "      <td>Pressed</td>\n",
       "      <td>While removing the drill rod of the Jumbo 08 f...</td>\n",
       "      <td>low</td>\n",
       "      <td>remove drill rod jumbo maintenance supervisor ...</td>\n",
       "      <td>[remov, drill, rod, jumbo, mainten, supervisor...</td>\n",
       "      <td>[remove, drill, rod, jumbo, maintenance, super...</td>\n",
       "    </tr>\n",
       "    <tr>\n",
       "      <th>1</th>\n",
       "      <td>02-01-2016 00:00</td>\n",
       "      <td>Country_02</td>\n",
       "      <td>Local_02</td>\n",
       "      <td>Mining</td>\n",
       "      <td>I</td>\n",
       "      <td>IV</td>\n",
       "      <td>Male</td>\n",
       "      <td>Employee</td>\n",
       "      <td>Pressurized Systems</td>\n",
       "      <td>During the activation of a sodium sulphide pum...</td>\n",
       "      <td>low</td>\n",
       "      <td>activation sodium sulphide pump pip uncouple s...</td>\n",
       "      <td>[activ, sodium, sulphid, pump, pipe, uncoupl, ...</td>\n",
       "      <td>[activation, sodium, sulphide, pump, pip, unco...</td>\n",
       "    </tr>\n",
       "    <tr>\n",
       "      <th>2</th>\n",
       "      <td>06-01-2016 00:00</td>\n",
       "      <td>Country_01</td>\n",
       "      <td>Local_03</td>\n",
       "      <td>Mining</td>\n",
       "      <td>I</td>\n",
       "      <td>III</td>\n",
       "      <td>Male</td>\n",
       "      <td>Third Party (Remote)</td>\n",
       "      <td>Manual Tools</td>\n",
       "      <td>In the sub-station MILPO located at level +170...</td>\n",
       "      <td>low</td>\n",
       "      <td>sub station milpo locate level collaborator ex...</td>\n",
       "      <td>[sub, station, milpo, locat, level, collabor, ...</td>\n",
       "      <td>[sub, station, milpo, locate, level, collabora...</td>\n",
       "    </tr>\n",
       "    <tr>\n",
       "      <th>3</th>\n",
       "      <td>08-01-2016 00:00</td>\n",
       "      <td>Country_01</td>\n",
       "      <td>Local_04</td>\n",
       "      <td>Mining</td>\n",
       "      <td>I</td>\n",
       "      <td>I</td>\n",
       "      <td>Male</td>\n",
       "      <td>Third Party</td>\n",
       "      <td>Others</td>\n",
       "      <td>Being 9:45 am. approximately in the Nv. 1880 C...</td>\n",
       "      <td>low</td>\n",
       "      <td>approximately personnel begin task unlock soqu...</td>\n",
       "      <td>[approxim, nv, cx, ob, personnel, begin, task,...</td>\n",
       "      <td>[approximately, personnel, begin, task, unlock...</td>\n",
       "    </tr>\n",
       "    <tr>\n",
       "      <th>4</th>\n",
       "      <td>10-01-2016 00:00</td>\n",
       "      <td>Country_01</td>\n",
       "      <td>Local_04</td>\n",
       "      <td>Mining</td>\n",
       "      <td>IV</td>\n",
       "      <td>IV</td>\n",
       "      <td>Male</td>\n",
       "      <td>Third Party</td>\n",
       "      <td>Others</td>\n",
       "      <td>Approximately at 11:45 a.m. in circumstances t...</td>\n",
       "      <td>high</td>\n",
       "      <td>approximately circumstances mechanics anthony ...</td>\n",
       "      <td>[approxim, circumst, mechan, anthoni, group, l...</td>\n",
       "      <td>[approximately, circumstances, mechanics, anth...</td>\n",
       "    </tr>\n",
       "  </tbody>\n",
       "</table>\n",
       "</div>"
      ],
      "text/plain": [
       "               Date   Countries     Local Industry Sector Accident Level  \\\n",
       "0  01-01-2016 00:00  Country_01  Local_01          Mining              I   \n",
       "1  02-01-2016 00:00  Country_02  Local_02          Mining              I   \n",
       "2  06-01-2016 00:00  Country_01  Local_03          Mining              I   \n",
       "3  08-01-2016 00:00  Country_01  Local_04          Mining              I   \n",
       "4  10-01-2016 00:00  Country_01  Local_04          Mining             IV   \n",
       "\n",
       "  Potential Accident Level Gender Employee or Third Party  \\\n",
       "0                       IV   Male             Third Party   \n",
       "1                       IV   Male                Employee   \n",
       "2                      III   Male    Third Party (Remote)   \n",
       "3                        I   Male             Third Party   \n",
       "4                       IV   Male             Third Party   \n",
       "\n",
       "         Critical Risk                                        Description  \\\n",
       "0              Pressed  While removing the drill rod of the Jumbo 08 f...   \n",
       "1  Pressurized Systems  During the activation of a sodium sulphide pum...   \n",
       "2         Manual Tools  In the sub-station MILPO located at level +170...   \n",
       "3               Others  Being 9:45 am. approximately in the Nv. 1880 C...   \n",
       "4               Others  Approximately at 11:45 a.m. in circumstances t...   \n",
       "\n",
       "  Accident Severity                                Updated Description  \\\n",
       "0               low  remove drill rod jumbo maintenance supervisor ...   \n",
       "1               low  activation sodium sulphide pump pip uncouple s...   \n",
       "2               low  sub station milpo locate level collaborator ex...   \n",
       "3               low  approximately personnel begin task unlock soqu...   \n",
       "4              high  approximately circumstances mechanics anthony ...   \n",
       "\n",
       "                           Updated Description Stems  \\\n",
       "0  [remov, drill, rod, jumbo, mainten, supervisor...   \n",
       "1  [activ, sodium, sulphid, pump, pipe, uncoupl, ...   \n",
       "2  [sub, station, milpo, locat, level, collabor, ...   \n",
       "3  [approxim, nv, cx, ob, personnel, begin, task,...   \n",
       "4  [approxim, circumst, mechan, anthoni, group, l...   \n",
       "\n",
       "                          Updated Description Lemmas  \n",
       "0  [remove, drill, rod, jumbo, maintenance, super...  \n",
       "1  [activation, sodium, sulphide, pump, pip, unco...  \n",
       "2  [sub, station, milpo, locate, level, collabora...  \n",
       "3  [approximately, personnel, begin, task, unlock...  \n",
       "4  [approximately, circumstances, mechanics, anth...  "
      ]
     },
     "execution_count": 26,
     "metadata": {},
     "output_type": "execute_result"
    }
   ],
   "source": [
    "industrial_safety_df.head()"
   ]
  },
  {
   "cell_type": "markdown",
   "metadata": {},
   "source": [
    "### Text Visualization\n",
    "> Here we will try to visualize each token of the description"
   ]
  },
  {
   "cell_type": "code",
   "execution_count": 27,
   "metadata": {},
   "outputs": [],
   "source": [
    "#splitting the dataset\n",
    "#we will fecth the description tokens \n",
    "texts_in_severity_low = industrial_safety_df[industrial_safety_df['Accident Severity'] == \"low\"]['Updated Description'] \n",
    "texts_in_severity_moderate = industrial_safety_df[industrial_safety_df['Accident Severity'] == \"moderate\"]['Updated Description'] \n",
    "texts_in_severity_high = industrial_safety_df[industrial_safety_df['Accident Severity'] == \"high\"]['Updated Description'] \n",
    "texts_in_severity_critical = industrial_safety_df[industrial_safety_df['Accident Severity'] == \"critical\"]['Updated Description'] \n"
   ]
  },
  {
   "cell_type": "markdown",
   "metadata": {},
   "source": [
    "- Let’s visualize our corpus corresponding to the labels \n",
    "- Taking top 15 words and see their frequency in the corpus"
   ]
  },
  {
   "cell_type": "code",
   "execution_count": 28,
   "metadata": {},
   "outputs": [],
   "source": [
    "from yellowbrick.text import FreqDistVisualizer\n",
    "def show_text_freq(item):\n",
    "    if(len(item) > 0):\n",
    "        vectorizer = CountVectorizer()\n",
    "        docs       = vectorizer.fit_transform(item)\n",
    "        features   = vectorizer.get_feature_names()\n",
    "        visualizer = FreqDistVisualizer(features=features, n=15, color='rgb', orient='V')\n",
    "        visualizer.fit(docs)\n",
    "        visualizer.show()\n",
    "    else :\n",
    "        print(\"Empty data-set\")"
   ]
  },
  {
   "cell_type": "code",
   "execution_count": 29,
   "metadata": {},
   "outputs": [
    {
     "data": {
      "image/png": "[encoded data removed]",
      "text/plain": [
       "<Figure size 576x396 with 1 Axes>"
      ]
     },
     "metadata": {},
     "output_type": "display_data"
    }
   ],
   "source": [
    "show_text_freq(texts_in_severity_low)"
   ]
  },
  {
   "cell_type": "code",
   "execution_count": 30,
   "metadata": {},
   "outputs": [
    {
     "data": {
      "image/png": "[encoded data removed]",
      "text/plain": [
       "<Figure size 576x396 with 1 Axes>"
      ]
     },
     "metadata": {},
     "output_type": "display_data"
    }
   ],
   "source": [
    "show_text_freq(texts_in_severity_moderate)"
   ]
  },
  {
   "cell_type": "code",
   "execution_count": 31,
   "metadata": {},
   "outputs": [
    {
     "data": {
      "image/png": "[encoded data removed]",
      "text/plain": [
       "<Figure size 576x396 with 1 Axes>"
      ]
     },
     "metadata": {},
     "output_type": "display_data"
    }
   ],
   "source": [
    "show_text_freq(texts_in_severity_high)"
   ]
  },
  {
   "cell_type": "code",
   "execution_count": 32,
   "metadata": {},
   "outputs": [
    {
     "name": "stdout",
     "output_type": "stream",
     "text": [
      "Empty data-set\n"
     ]
    }
   ],
   "source": [
    "show_text_freq(texts_in_severity_critical)"
   ]
  },
  {
   "cell_type": "code",
   "execution_count": 33,
   "metadata": {},
   "outputs": [
    {
     "data": {
      "text/html": [
       "<div>\n",
       "<style scoped>\n",
       "    .dataframe tbody tr th:only-of-type {\n",
       "        vertical-align: middle;\n",
       "    }\n",
       "\n",
       "    .dataframe tbody tr th {\n",
       "        vertical-align: top;\n",
       "    }\n",
       "\n",
       "    .dataframe thead th {\n",
       "        text-align: right;\n",
       "    }\n",
       "</style>\n",
       "<table border=\"1\" class=\"dataframe\">\n",
       "  <thead>\n",
       "    <tr style=\"text-align: right;\">\n",
       "      <th></th>\n",
       "      <th>Date</th>\n",
       "      <th>Countries</th>\n",
       "      <th>Local</th>\n",
       "      <th>Industry Sector</th>\n",
       "      <th>Accident Level</th>\n",
       "      <th>Potential Accident Level</th>\n",
       "      <th>Gender</th>\n",
       "      <th>Employee or Third Party</th>\n",
       "      <th>Critical Risk</th>\n",
       "      <th>Description</th>\n",
       "      <th>Accident Severity</th>\n",
       "      <th>Updated Description</th>\n",
       "      <th>Updated Description Stems</th>\n",
       "      <th>Updated Description Lemmas</th>\n",
       "    </tr>\n",
       "  </thead>\n",
       "  <tbody>\n",
       "    <tr>\n",
       "      <th>0</th>\n",
       "      <td>01-01-2016 00:00</td>\n",
       "      <td>Country_01</td>\n",
       "      <td>Local_01</td>\n",
       "      <td>Mining</td>\n",
       "      <td>I</td>\n",
       "      <td>IV</td>\n",
       "      <td>Male</td>\n",
       "      <td>Third Party</td>\n",
       "      <td>Pressed</td>\n",
       "      <td>While removing the drill rod of the Jumbo 08 f...</td>\n",
       "      <td>low</td>\n",
       "      <td>remove drill rod jumbo maintenance supervisor ...</td>\n",
       "      <td>[remov, drill, rod, jumbo, mainten, supervisor...</td>\n",
       "      <td>[remove, drill, rod, jumbo, maintenance, super...</td>\n",
       "    </tr>\n",
       "    <tr>\n",
       "      <th>1</th>\n",
       "      <td>02-01-2016 00:00</td>\n",
       "      <td>Country_02</td>\n",
       "      <td>Local_02</td>\n",
       "      <td>Mining</td>\n",
       "      <td>I</td>\n",
       "      <td>IV</td>\n",
       "      <td>Male</td>\n",
       "      <td>Employee</td>\n",
       "      <td>Pressurized Systems</td>\n",
       "      <td>During the activation of a sodium sulphide pum...</td>\n",
       "      <td>low</td>\n",
       "      <td>activation sodium sulphide pump pip uncouple s...</td>\n",
       "      <td>[activ, sodium, sulphid, pump, pipe, uncoupl, ...</td>\n",
       "      <td>[activation, sodium, sulphide, pump, pip, unco...</td>\n",
       "    </tr>\n",
       "    <tr>\n",
       "      <th>2</th>\n",
       "      <td>06-01-2016 00:00</td>\n",
       "      <td>Country_01</td>\n",
       "      <td>Local_03</td>\n",
       "      <td>Mining</td>\n",
       "      <td>I</td>\n",
       "      <td>III</td>\n",
       "      <td>Male</td>\n",
       "      <td>Third Party (Remote)</td>\n",
       "      <td>Manual Tools</td>\n",
       "      <td>In the sub-station MILPO located at level +170...</td>\n",
       "      <td>low</td>\n",
       "      <td>sub station milpo locate level collaborator ex...</td>\n",
       "      <td>[sub, station, milpo, locat, level, collabor, ...</td>\n",
       "      <td>[sub, station, milpo, locate, level, collabora...</td>\n",
       "    </tr>\n",
       "    <tr>\n",
       "      <th>3</th>\n",
       "      <td>08-01-2016 00:00</td>\n",
       "      <td>Country_01</td>\n",
       "      <td>Local_04</td>\n",
       "      <td>Mining</td>\n",
       "      <td>I</td>\n",
       "      <td>I</td>\n",
       "      <td>Male</td>\n",
       "      <td>Third Party</td>\n",
       "      <td>Others</td>\n",
       "      <td>Being 9:45 am. approximately in the Nv. 1880 C...</td>\n",
       "      <td>low</td>\n",
       "      <td>approximately personnel begin task unlock soqu...</td>\n",
       "      <td>[approxim, nv, cx, ob, personnel, begin, task,...</td>\n",
       "      <td>[approximately, personnel, begin, task, unlock...</td>\n",
       "    </tr>\n",
       "    <tr>\n",
       "      <th>4</th>\n",
       "      <td>10-01-2016 00:00</td>\n",
       "      <td>Country_01</td>\n",
       "      <td>Local_04</td>\n",
       "      <td>Mining</td>\n",
       "      <td>IV</td>\n",
       "      <td>IV</td>\n",
       "      <td>Male</td>\n",
       "      <td>Third Party</td>\n",
       "      <td>Others</td>\n",
       "      <td>Approximately at 11:45 a.m. in circumstances t...</td>\n",
       "      <td>high</td>\n",
       "      <td>approximately circumstances mechanics anthony ...</td>\n",
       "      <td>[approxim, circumst, mechan, anthoni, group, l...</td>\n",
       "      <td>[approximately, circumstances, mechanics, anth...</td>\n",
       "    </tr>\n",
       "  </tbody>\n",
       "</table>\n",
       "</div>"
      ],
      "text/plain": [
       "               Date   Countries     Local Industry Sector Accident Level  \\\n",
       "0  01-01-2016 00:00  Country_01  Local_01          Mining              I   \n",
       "1  02-01-2016 00:00  Country_02  Local_02          Mining              I   \n",
       "2  06-01-2016 00:00  Country_01  Local_03          Mining              I   \n",
       "3  08-01-2016 00:00  Country_01  Local_04          Mining              I   \n",
       "4  10-01-2016 00:00  Country_01  Local_04          Mining             IV   \n",
       "\n",
       "  Potential Accident Level Gender Employee or Third Party  \\\n",
       "0                       IV   Male             Third Party   \n",
       "1                       IV   Male                Employee   \n",
       "2                      III   Male    Third Party (Remote)   \n",
       "3                        I   Male             Third Party   \n",
       "4                       IV   Male             Third Party   \n",
       "\n",
       "         Critical Risk                                        Description  \\\n",
       "0              Pressed  While removing the drill rod of the Jumbo 08 f...   \n",
       "1  Pressurized Systems  During the activation of a sodium sulphide pum...   \n",
       "2         Manual Tools  In the sub-station MILPO located at level +170...   \n",
       "3               Others  Being 9:45 am. approximately in the Nv. 1880 C...   \n",
       "4               Others  Approximately at 11:45 a.m. in circumstances t...   \n",
       "\n",
       "  Accident Severity                                Updated Description  \\\n",
       "0               low  remove drill rod jumbo maintenance supervisor ...   \n",
       "1               low  activation sodium sulphide pump pip uncouple s...   \n",
       "2               low  sub station milpo locate level collaborator ex...   \n",
       "3               low  approximately personnel begin task unlock soqu...   \n",
       "4              high  approximately circumstances mechanics anthony ...   \n",
       "\n",
       "                           Updated Description Stems  \\\n",
       "0  [remov, drill, rod, jumbo, mainten, supervisor...   \n",
       "1  [activ, sodium, sulphid, pump, pipe, uncoupl, ...   \n",
       "2  [sub, station, milpo, locat, level, collabor, ...   \n",
       "3  [approxim, nv, cx, ob, personnel, begin, task,...   \n",
       "4  [approxim, circumst, mechan, anthoni, group, l...   \n",
       "\n",
       "                          Updated Description Lemmas  \n",
       "0  [remove, drill, rod, jumbo, maintenance, super...  \n",
       "1  [activation, sodium, sulphide, pump, pip, unco...  \n",
       "2  [sub, station, milpo, locate, level, collabora...  \n",
       "3  [approximately, personnel, begin, task, unlock...  \n",
       "4  [approximately, circumstances, mechanics, anth...  "
      ]
     },
     "execution_count": 33,
     "metadata": {},
     "output_type": "execute_result"
    }
   ],
   "source": [
    "industrial_safety_df.head()"
   ]
  },
  {
   "cell_type": "markdown",
   "metadata": {},
   "source": [
    "> ## Data Encoding"
   ]
  },
  {
   "cell_type": "markdown",
   "metadata": {},
   "source": [
    "> - ### Bag of Words"
   ]
  },
  {
   "cell_type": "code",
   "execution_count": 34,
   "metadata": {},
   "outputs": [],
   "source": [
    "#creating the document or corpus\n",
    "corpus_accident_description = industrial_safety_df['Description'].values\n",
    "#corpus_accident_description"
   ]
  },
  {
   "cell_type": "code",
   "execution_count": 35,
   "metadata": {},
   "outputs": [
    {
     "name": "stdout",
     "output_type": "stream",
     "text": [
      "[[0 0 0 ... 0 0 0]\n",
      " [0 0 0 ... 0 0 0]\n",
      " [0 0 0 ... 0 0 0]\n",
      " ...\n",
      " [0 0 0 ... 0 0 0]\n",
      " [0 0 0 ... 0 0 0]\n",
      " [1 0 0 ... 0 0 0]]\n"
     ]
    }
   ],
   "source": [
    "vec_bow = CountVectorizer()\n",
    "X = vec_bow.fit_transform(corpus_accident_description)\n",
    "features = vec_bow.get_feature_names()\n",
    "#print(features)\n",
    "print(X.toarray())"
   ]
  },
  {
   "cell_type": "markdown",
   "metadata": {},
   "source": [
    "> - ### TF-IDF Encoding"
   ]
  },
  {
   "cell_type": "code",
   "execution_count": 36,
   "metadata": {},
   "outputs": [
    {
     "data": {
      "text/html": [
       "<div>\n",
       "<style scoped>\n",
       "    .dataframe tbody tr th:only-of-type {\n",
       "        vertical-align: middle;\n",
       "    }\n",
       "\n",
       "    .dataframe tbody tr th {\n",
       "        vertical-align: top;\n",
       "    }\n",
       "\n",
       "    .dataframe thead th {\n",
       "        text-align: right;\n",
       "    }\n",
       "</style>\n",
       "<table border=\"1\" class=\"dataframe\">\n",
       "  <thead>\n",
       "    <tr style=\"text-align: right;\">\n",
       "      <th></th>\n",
       "      <th>00</th>\n",
       "      <th>001</th>\n",
       "      <th>007</th>\n",
       "      <th>01</th>\n",
       "      <th>018</th>\n",
       "      <th>0183</th>\n",
       "      <th>02</th>\n",
       "      <th>020</th>\n",
       "      <th>02bp0166</th>\n",
       "      <th>02bp0167</th>\n",
       "      <th>...</th>\n",
       "      <th>young</th>\n",
       "      <th>your</th>\n",
       "      <th>z014</th>\n",
       "      <th>zaf</th>\n",
       "      <th>zamac</th>\n",
       "      <th>zero</th>\n",
       "      <th>zinc</th>\n",
       "      <th>zinco</th>\n",
       "      <th>zn</th>\n",
       "      <th>zone</th>\n",
       "    </tr>\n",
       "  </thead>\n",
       "  <tbody>\n",
       "    <tr>\n",
       "      <th>0</th>\n",
       "      <td>0.000000</td>\n",
       "      <td>0.0</td>\n",
       "      <td>0.0</td>\n",
       "      <td>0.0</td>\n",
       "      <td>0.0</td>\n",
       "      <td>0.0</td>\n",
       "      <td>0.0</td>\n",
       "      <td>0.0</td>\n",
       "      <td>0.0</td>\n",
       "      <td>0.0</td>\n",
       "      <td>...</td>\n",
       "      <td>0.0</td>\n",
       "      <td>0.00000</td>\n",
       "      <td>0.0</td>\n",
       "      <td>0.000000</td>\n",
       "      <td>0.0</td>\n",
       "      <td>0.0</td>\n",
       "      <td>0.0</td>\n",
       "      <td>0.0</td>\n",
       "      <td>0.0</td>\n",
       "      <td>0.0</td>\n",
       "    </tr>\n",
       "    <tr>\n",
       "      <th>1</th>\n",
       "      <td>0.000000</td>\n",
       "      <td>0.0</td>\n",
       "      <td>0.0</td>\n",
       "      <td>0.0</td>\n",
       "      <td>0.0</td>\n",
       "      <td>0.0</td>\n",
       "      <td>0.0</td>\n",
       "      <td>0.0</td>\n",
       "      <td>0.0</td>\n",
       "      <td>0.0</td>\n",
       "      <td>...</td>\n",
       "      <td>0.0</td>\n",
       "      <td>0.00000</td>\n",
       "      <td>0.0</td>\n",
       "      <td>0.000000</td>\n",
       "      <td>0.0</td>\n",
       "      <td>0.0</td>\n",
       "      <td>0.0</td>\n",
       "      <td>0.0</td>\n",
       "      <td>0.0</td>\n",
       "      <td>0.0</td>\n",
       "    </tr>\n",
       "    <tr>\n",
       "      <th>2</th>\n",
       "      <td>0.000000</td>\n",
       "      <td>0.0</td>\n",
       "      <td>0.0</td>\n",
       "      <td>0.0</td>\n",
       "      <td>0.0</td>\n",
       "      <td>0.0</td>\n",
       "      <td>0.0</td>\n",
       "      <td>0.0</td>\n",
       "      <td>0.0</td>\n",
       "      <td>0.0</td>\n",
       "      <td>...</td>\n",
       "      <td>0.0</td>\n",
       "      <td>0.00000</td>\n",
       "      <td>0.0</td>\n",
       "      <td>0.000000</td>\n",
       "      <td>0.0</td>\n",
       "      <td>0.0</td>\n",
       "      <td>0.0</td>\n",
       "      <td>0.0</td>\n",
       "      <td>0.0</td>\n",
       "      <td>0.0</td>\n",
       "    </tr>\n",
       "    <tr>\n",
       "      <th>3</th>\n",
       "      <td>0.000000</td>\n",
       "      <td>0.0</td>\n",
       "      <td>0.0</td>\n",
       "      <td>0.0</td>\n",
       "      <td>0.0</td>\n",
       "      <td>0.0</td>\n",
       "      <td>0.0</td>\n",
       "      <td>0.0</td>\n",
       "      <td>0.0</td>\n",
       "      <td>0.0</td>\n",
       "      <td>...</td>\n",
       "      <td>0.0</td>\n",
       "      <td>0.10747</td>\n",
       "      <td>0.0</td>\n",
       "      <td>0.000000</td>\n",
       "      <td>0.0</td>\n",
       "      <td>0.0</td>\n",
       "      <td>0.0</td>\n",
       "      <td>0.0</td>\n",
       "      <td>0.0</td>\n",
       "      <td>0.0</td>\n",
       "    </tr>\n",
       "    <tr>\n",
       "      <th>4</th>\n",
       "      <td>0.000000</td>\n",
       "      <td>0.0</td>\n",
       "      <td>0.0</td>\n",
       "      <td>0.0</td>\n",
       "      <td>0.0</td>\n",
       "      <td>0.0</td>\n",
       "      <td>0.0</td>\n",
       "      <td>0.0</td>\n",
       "      <td>0.0</td>\n",
       "      <td>0.0</td>\n",
       "      <td>...</td>\n",
       "      <td>0.0</td>\n",
       "      <td>0.00000</td>\n",
       "      <td>0.0</td>\n",
       "      <td>0.158372</td>\n",
       "      <td>0.0</td>\n",
       "      <td>0.0</td>\n",
       "      <td>0.0</td>\n",
       "      <td>0.0</td>\n",
       "      <td>0.0</td>\n",
       "      <td>0.0</td>\n",
       "    </tr>\n",
       "    <tr>\n",
       "      <th>...</th>\n",
       "      <td>...</td>\n",
       "      <td>...</td>\n",
       "      <td>...</td>\n",
       "      <td>...</td>\n",
       "      <td>...</td>\n",
       "      <td>...</td>\n",
       "      <td>...</td>\n",
       "      <td>...</td>\n",
       "      <td>...</td>\n",
       "      <td>...</td>\n",
       "      <td>...</td>\n",
       "      <td>...</td>\n",
       "      <td>...</td>\n",
       "      <td>...</td>\n",
       "      <td>...</td>\n",
       "      <td>...</td>\n",
       "      <td>...</td>\n",
       "      <td>...</td>\n",
       "      <td>...</td>\n",
       "      <td>...</td>\n",
       "      <td>...</td>\n",
       "    </tr>\n",
       "    <tr>\n",
       "      <th>420</th>\n",
       "      <td>0.191375</td>\n",
       "      <td>0.0</td>\n",
       "      <td>0.0</td>\n",
       "      <td>0.0</td>\n",
       "      <td>0.0</td>\n",
       "      <td>0.0</td>\n",
       "      <td>0.0</td>\n",
       "      <td>0.0</td>\n",
       "      <td>0.0</td>\n",
       "      <td>0.0</td>\n",
       "      <td>...</td>\n",
       "      <td>0.0</td>\n",
       "      <td>0.00000</td>\n",
       "      <td>0.0</td>\n",
       "      <td>0.000000</td>\n",
       "      <td>0.0</td>\n",
       "      <td>0.0</td>\n",
       "      <td>0.0</td>\n",
       "      <td>0.0</td>\n",
       "      <td>0.0</td>\n",
       "      <td>0.0</td>\n",
       "    </tr>\n",
       "    <tr>\n",
       "      <th>421</th>\n",
       "      <td>0.000000</td>\n",
       "      <td>0.0</td>\n",
       "      <td>0.0</td>\n",
       "      <td>0.0</td>\n",
       "      <td>0.0</td>\n",
       "      <td>0.0</td>\n",
       "      <td>0.0</td>\n",
       "      <td>0.0</td>\n",
       "      <td>0.0</td>\n",
       "      <td>0.0</td>\n",
       "      <td>...</td>\n",
       "      <td>0.0</td>\n",
       "      <td>0.00000</td>\n",
       "      <td>0.0</td>\n",
       "      <td>0.000000</td>\n",
       "      <td>0.0</td>\n",
       "      <td>0.0</td>\n",
       "      <td>0.0</td>\n",
       "      <td>0.0</td>\n",
       "      <td>0.0</td>\n",
       "      <td>0.0</td>\n",
       "    </tr>\n",
       "    <tr>\n",
       "      <th>422</th>\n",
       "      <td>0.000000</td>\n",
       "      <td>0.0</td>\n",
       "      <td>0.0</td>\n",
       "      <td>0.0</td>\n",
       "      <td>0.0</td>\n",
       "      <td>0.0</td>\n",
       "      <td>0.0</td>\n",
       "      <td>0.0</td>\n",
       "      <td>0.0</td>\n",
       "      <td>0.0</td>\n",
       "      <td>...</td>\n",
       "      <td>0.0</td>\n",
       "      <td>0.00000</td>\n",
       "      <td>0.0</td>\n",
       "      <td>0.000000</td>\n",
       "      <td>0.0</td>\n",
       "      <td>0.0</td>\n",
       "      <td>0.0</td>\n",
       "      <td>0.0</td>\n",
       "      <td>0.0</td>\n",
       "      <td>0.0</td>\n",
       "    </tr>\n",
       "    <tr>\n",
       "      <th>423</th>\n",
       "      <td>0.000000</td>\n",
       "      <td>0.0</td>\n",
       "      <td>0.0</td>\n",
       "      <td>0.0</td>\n",
       "      <td>0.0</td>\n",
       "      <td>0.0</td>\n",
       "      <td>0.0</td>\n",
       "      <td>0.0</td>\n",
       "      <td>0.0</td>\n",
       "      <td>0.0</td>\n",
       "      <td>...</td>\n",
       "      <td>0.0</td>\n",
       "      <td>0.00000</td>\n",
       "      <td>0.0</td>\n",
       "      <td>0.000000</td>\n",
       "      <td>0.0</td>\n",
       "      <td>0.0</td>\n",
       "      <td>0.0</td>\n",
       "      <td>0.0</td>\n",
       "      <td>0.0</td>\n",
       "      <td>0.0</td>\n",
       "    </tr>\n",
       "    <tr>\n",
       "      <th>424</th>\n",
       "      <td>0.196179</td>\n",
       "      <td>0.0</td>\n",
       "      <td>0.0</td>\n",
       "      <td>0.0</td>\n",
       "      <td>0.0</td>\n",
       "      <td>0.0</td>\n",
       "      <td>0.0</td>\n",
       "      <td>0.0</td>\n",
       "      <td>0.0</td>\n",
       "      <td>0.0</td>\n",
       "      <td>...</td>\n",
       "      <td>0.0</td>\n",
       "      <td>0.00000</td>\n",
       "      <td>0.0</td>\n",
       "      <td>0.000000</td>\n",
       "      <td>0.0</td>\n",
       "      <td>0.0</td>\n",
       "      <td>0.0</td>\n",
       "      <td>0.0</td>\n",
       "      <td>0.0</td>\n",
       "      <td>0.0</td>\n",
       "    </tr>\n",
       "  </tbody>\n",
       "</table>\n",
       "<p>425 rows × 3395 columns</p>\n",
       "</div>"
      ],
      "text/plain": [
       "           00  001  007   01  018  0183   02  020  02bp0166  02bp0167  ...  \\\n",
       "0    0.000000  0.0  0.0  0.0  0.0   0.0  0.0  0.0       0.0       0.0  ...   \n",
       "1    0.000000  0.0  0.0  0.0  0.0   0.0  0.0  0.0       0.0       0.0  ...   \n",
       "2    0.000000  0.0  0.0  0.0  0.0   0.0  0.0  0.0       0.0       0.0  ...   \n",
       "3    0.000000  0.0  0.0  0.0  0.0   0.0  0.0  0.0       0.0       0.0  ...   \n",
       "4    0.000000  0.0  0.0  0.0  0.0   0.0  0.0  0.0       0.0       0.0  ...   \n",
       "..        ...  ...  ...  ...  ...   ...  ...  ...       ...       ...  ...   \n",
       "420  0.191375  0.0  0.0  0.0  0.0   0.0  0.0  0.0       0.0       0.0  ...   \n",
       "421  0.000000  0.0  0.0  0.0  0.0   0.0  0.0  0.0       0.0       0.0  ...   \n",
       "422  0.000000  0.0  0.0  0.0  0.0   0.0  0.0  0.0       0.0       0.0  ...   \n",
       "423  0.000000  0.0  0.0  0.0  0.0   0.0  0.0  0.0       0.0       0.0  ...   \n",
       "424  0.196179  0.0  0.0  0.0  0.0   0.0  0.0  0.0       0.0       0.0  ...   \n",
       "\n",
       "     young     your  z014       zaf  zamac  zero  zinc  zinco   zn  zone  \n",
       "0      0.0  0.00000   0.0  0.000000    0.0   0.0   0.0    0.0  0.0   0.0  \n",
       "1      0.0  0.00000   0.0  0.000000    0.0   0.0   0.0    0.0  0.0   0.0  \n",
       "2      0.0  0.00000   0.0  0.000000    0.0   0.0   0.0    0.0  0.0   0.0  \n",
       "3      0.0  0.10747   0.0  0.000000    0.0   0.0   0.0    0.0  0.0   0.0  \n",
       "4      0.0  0.00000   0.0  0.158372    0.0   0.0   0.0    0.0  0.0   0.0  \n",
       "..     ...      ...   ...       ...    ...   ...   ...    ...  ...   ...  \n",
       "420    0.0  0.00000   0.0  0.000000    0.0   0.0   0.0    0.0  0.0   0.0  \n",
       "421    0.0  0.00000   0.0  0.000000    0.0   0.0   0.0    0.0  0.0   0.0  \n",
       "422    0.0  0.00000   0.0  0.000000    0.0   0.0   0.0    0.0  0.0   0.0  \n",
       "423    0.0  0.00000   0.0  0.000000    0.0   0.0   0.0    0.0  0.0   0.0  \n",
       "424    0.0  0.00000   0.0  0.000000    0.0   0.0   0.0    0.0  0.0   0.0  \n",
       "\n",
       "[425 rows x 3395 columns]"
      ]
     },
     "execution_count": 36,
     "metadata": {},
     "output_type": "execute_result"
    }
   ],
   "source": [
    "from sklearn.feature_extraction.text import TfidfVectorizer\n",
    "vec_tfidf = TfidfVectorizer()\n",
    "X = vec_tfidf.fit_transform(corpus_accident_description)\n",
    "words = vec_tfidf.get_feature_names()\n",
    "#print(features)\n",
    "tf_idf_df = pd.DataFrame(X.toarray())\n",
    "tf_idf_df.columns = words\n",
    "tf_idf_df"
   ]
  },
  {
   "cell_type": "markdown",
   "metadata": {},
   "source": [
    " - ### Random Forest Classifier"
   ]
  },
  {
   "cell_type": "code",
   "execution_count": 37,
   "metadata": {},
   "outputs": [
    {
     "data": {
      "text/html": [
       "<div>\n",
       "<style scoped>\n",
       "    .dataframe tbody tr th:only-of-type {\n",
       "        vertical-align: middle;\n",
       "    }\n",
       "\n",
       "    .dataframe tbody tr th {\n",
       "        vertical-align: top;\n",
       "    }\n",
       "\n",
       "    .dataframe thead th {\n",
       "        text-align: right;\n",
       "    }\n",
       "</style>\n",
       "<table border=\"1\" class=\"dataframe\">\n",
       "  <thead>\n",
       "    <tr style=\"text-align: right;\">\n",
       "      <th></th>\n",
       "      <th>Potential Accident Level</th>\n",
       "      <th>Description</th>\n",
       "    </tr>\n",
       "  </thead>\n",
       "  <tbody>\n",
       "    <tr>\n",
       "      <th>0</th>\n",
       "      <td>IV</td>\n",
       "      <td>While removing the drill rod of the Jumbo 08 f...</td>\n",
       "    </tr>\n",
       "    <tr>\n",
       "      <th>1</th>\n",
       "      <td>IV</td>\n",
       "      <td>During the activation of a sodium sulphide pum...</td>\n",
       "    </tr>\n",
       "    <tr>\n",
       "      <th>2</th>\n",
       "      <td>III</td>\n",
       "      <td>In the sub-station MILPO located at level +170...</td>\n",
       "    </tr>\n",
       "    <tr>\n",
       "      <th>3</th>\n",
       "      <td>I</td>\n",
       "      <td>Being 9:45 am. approximately in the Nv. 1880 C...</td>\n",
       "    </tr>\n",
       "    <tr>\n",
       "      <th>4</th>\n",
       "      <td>IV</td>\n",
       "      <td>Approximately at 11:45 a.m. in circumstances t...</td>\n",
       "    </tr>\n",
       "    <tr>\n",
       "      <th>...</th>\n",
       "      <td>...</td>\n",
       "      <td>...</td>\n",
       "    </tr>\n",
       "    <tr>\n",
       "      <th>420</th>\n",
       "      <td>III</td>\n",
       "      <td>Being approximately 5:00 a.m. approximately, w...</td>\n",
       "    </tr>\n",
       "    <tr>\n",
       "      <th>421</th>\n",
       "      <td>II</td>\n",
       "      <td>The collaborator moved from the infrastructure...</td>\n",
       "    </tr>\n",
       "    <tr>\n",
       "      <th>422</th>\n",
       "      <td>II</td>\n",
       "      <td>During the environmental monitoring activity i...</td>\n",
       "    </tr>\n",
       "    <tr>\n",
       "      <th>423</th>\n",
       "      <td>II</td>\n",
       "      <td>The Employee performed the activity of strippi...</td>\n",
       "    </tr>\n",
       "    <tr>\n",
       "      <th>424</th>\n",
       "      <td>II</td>\n",
       "      <td>At 10:00 a.m., when the assistant cleaned the ...</td>\n",
       "    </tr>\n",
       "  </tbody>\n",
       "</table>\n",
       "<p>424 rows × 2 columns</p>\n",
       "</div>"
      ],
      "text/plain": [
       "    Potential Accident Level  \\\n",
       "0                         IV   \n",
       "1                         IV   \n",
       "2                        III   \n",
       "3                          I   \n",
       "4                         IV   \n",
       "..                       ...   \n",
       "420                      III   \n",
       "421                       II   \n",
       "422                       II   \n",
       "423                       II   \n",
       "424                       II   \n",
       "\n",
       "                                           Description  \n",
       "0    While removing the drill rod of the Jumbo 08 f...  \n",
       "1    During the activation of a sodium sulphide pum...  \n",
       "2    In the sub-station MILPO located at level +170...  \n",
       "3    Being 9:45 am. approximately in the Nv. 1880 C...  \n",
       "4    Approximately at 11:45 a.m. in circumstances t...  \n",
       "..                                                 ...  \n",
       "420  Being approximately 5:00 a.m. approximately, w...  \n",
       "421  The collaborator moved from the infrastructure...  \n",
       "422  During the environmental monitoring activity i...  \n",
       "423  The Employee performed the activity of strippi...  \n",
       "424  At 10:00 a.m., when the assistant cleaned the ...  \n",
       "\n",
       "[424 rows x 2 columns]"
      ]
     },
     "execution_count": 37,
     "metadata": {},
     "output_type": "execute_result"
    }
   ],
   "source": [
    "#creaitng a new dataframe as per oure requirement\n",
    "#not all features are important here\n",
    "\n",
    "#without stop words and pre-processed\n",
    "df1 = industrial_safety_df[['Potential Accident Level', 'Updated Description']].copy()\n",
    "df1 = df1[df1['Potential Accident Level'] != 'VI'] # no value under VI\n",
    "\n",
    "#with actual description\n",
    "df2 = industrial_safety_df[['Potential Accident Level', 'Description']].copy()\n",
    "df2 = df2[df2['Potential Accident Level'] != 'VI'] # no value under VI\n",
    "df2\n",
    "#pd.DataFrame(df1['Potential Accident Level'].unique()).values"
   ]
  },
  {
   "cell_type": "markdown",
   "metadata": {},
   "source": [
    "- There are six different levels of Potential Accident Levels\n",
    "- We need to replace each level as number"
   ]
  },
  {
   "cell_type": "code",
   "execution_count": 38,
   "metadata": {},
   "outputs": [
    {
     "data": {
      "text/html": [
       "<div>\n",
       "<style scoped>\n",
       "    .dataframe tbody tr th:only-of-type {\n",
       "        vertical-align: middle;\n",
       "    }\n",
       "\n",
       "    .dataframe tbody tr th {\n",
       "        vertical-align: top;\n",
       "    }\n",
       "\n",
       "    .dataframe thead th {\n",
       "        text-align: right;\n",
       "    }\n",
       "</style>\n",
       "<table border=\"1\" class=\"dataframe\">\n",
       "  <thead>\n",
       "    <tr style=\"text-align: right;\">\n",
       "      <th></th>\n",
       "      <th>Potential Accident Level</th>\n",
       "      <th>Updated Description</th>\n",
       "      <th>Potential_Accident_Level_Id</th>\n",
       "    </tr>\n",
       "  </thead>\n",
       "  <tbody>\n",
       "    <tr>\n",
       "      <th>0</th>\n",
       "      <td>IV</td>\n",
       "      <td>remove drill rod jumbo maintenance supervisor ...</td>\n",
       "      <td>0</td>\n",
       "    </tr>\n",
       "    <tr>\n",
       "      <th>1</th>\n",
       "      <td>IV</td>\n",
       "      <td>activation sodium sulphide pump pip uncouple s...</td>\n",
       "      <td>0</td>\n",
       "    </tr>\n",
       "    <tr>\n",
       "      <th>2</th>\n",
       "      <td>III</td>\n",
       "      <td>sub station milpo locate level collaborator ex...</td>\n",
       "      <td>1</td>\n",
       "    </tr>\n",
       "    <tr>\n",
       "      <th>3</th>\n",
       "      <td>I</td>\n",
       "      <td>approximately personnel begin task unlock soqu...</td>\n",
       "      <td>2</td>\n",
       "    </tr>\n",
       "    <tr>\n",
       "      <th>4</th>\n",
       "      <td>IV</td>\n",
       "      <td>approximately circumstances mechanics anthony ...</td>\n",
       "      <td>0</td>\n",
       "    </tr>\n",
       "  </tbody>\n",
       "</table>\n",
       "</div>"
      ],
      "text/plain": [
       "  Potential Accident Level                                Updated Description  \\\n",
       "0                       IV  remove drill rod jumbo maintenance supervisor ...   \n",
       "1                       IV  activation sodium sulphide pump pip uncouple s...   \n",
       "2                      III  sub station milpo locate level collaborator ex...   \n",
       "3                        I  approximately personnel begin task unlock soqu...   \n",
       "4                       IV  approximately circumstances mechanics anthony ...   \n",
       "\n",
       "   Potential_Accident_Level_Id  \n",
       "0                            0  \n",
       "1                            0  \n",
       "2                            1  \n",
       "3                            2  \n",
       "4                            0  "
      ]
     },
     "execution_count": 38,
     "metadata": {},
     "output_type": "execute_result"
    }
   ],
   "source": [
    "# Create a new column 'Potential_Accident_Level_Id' with encoded Ids \n",
    "df1['Potential_Accident_Level_Id'] = df1['Potential Accident Level'].factorize()[0]\n",
    "Potential_Accident_Level_df = df1[['Potential Accident Level', 'Potential_Accident_Level_Id']].drop_duplicates()\n",
    "\n",
    "#same for df2\n",
    "df2['Potential_Accident_Level_Id'] = df2['Potential Accident Level'].factorize()[0]\n",
    "Potential_Accident_Level_df2 = df2[['Potential Accident Level', 'Potential_Accident_Level_Id']].drop_duplicates()\n",
    "\n",
    "# Dictionaries for future use(for unigrams and biGrams)\n",
    "acc_level_to_id = dict(Potential_Accident_Level_df.values)\n",
    "id_to_acc_level = dict(Potential_Accident_Level_df[['Potential_Accident_Level_Id', 'Potential Accident Level']].values)\n",
    "\n",
    "# New dataframe\n",
    "df1.head()\n",
    "#pd.DataFrame(df1['Potential_Accident_Level_Id'].unique()).values"
   ]
  },
  {
   "cell_type": "code",
   "execution_count": null,
   "metadata": {},
   "outputs": [],
   "source": []
  },
  {
   "cell_type": "markdown",
   "metadata": {},
   "source": [
    "- #### Above is the dataset that will be used by Rf-Classifier"
   ]
  },
  {
   "cell_type": "code",
   "execution_count": 39,
   "metadata": {},
   "outputs": [],
   "source": [
    "#creating tf-idf for features\n",
    "def tfidf_vectorizer(text):\n",
    "    vec_tfidf = TfidfVectorizer()\n",
    "    X = vec_tfidf.fit_transform(text)\n",
    "    words = vec_tfidf.get_feature_names()\n",
    "    #print(features)\n",
    "    tf_idf_df = pd.DataFrame(X.toarray())\n",
    "    tf_idf_df.columns = words\n",
    "    return tf_idf_df"
   ]
  },
  {
   "cell_type": "code",
   "execution_count": 40,
   "metadata": {},
   "outputs": [],
   "source": [
    "features_tfidf = tfidf_vectorizer(df1['Updated Description'])\n",
    "target_label  = df1.Potential_Accident_Level_Id"
   ]
  },
  {
   "cell_type": "code",
   "execution_count": 41,
   "metadata": {},
   "outputs": [],
   "source": [
    "# test_size is 0.3 as train : test is 70:30\n",
    "features_train, features_test, target_train, target_test = train_test_split(features_tfidf, target_label, test_size=0.3, random_state=1)"
   ]
  },
  {
   "cell_type": "code",
   "execution_count": 42,
   "metadata": {},
   "outputs": [
    {
     "name": "stdout",
     "output_type": "stream",
     "text": [
      "Score - Random forest : 41.4 %\n"
     ]
    }
   ],
   "source": [
    "rndm_clf = RandomForestClassifier(n_estimators = 1000, n_jobs=-1)\n",
    "rndm_clf = rndm_clf.fit(features_train, target_train)\n",
    "#score\n",
    "predicted_target = rndm_clf.predict(features_test)\n",
    "score_rf = round(rndm_clf.score(features_test , target_test),3)*100\n",
    "print(\"Score - Random forest :\",score_rf,\"%\")"
   ]
  },
  {
   "cell_type": "code",
   "execution_count": 43,
   "metadata": {},
   "outputs": [
    {
     "name": "stdout",
     "output_type": "stream",
     "text": [
      "\t\t\t\tCLASSIFICATIION METRICS\n",
      "\n",
      "              precision    recall  f1-score   support\n",
      "\n",
      "          IV       0.42      0.80      0.55        45\n",
      "         III       0.22      0.17      0.19        29\n",
      "           I       1.00      0.60      0.75        10\n",
      "          II       0.42      0.14      0.21        36\n",
      "           V       1.00      0.12      0.22         8\n",
      "\n",
      "    accuracy                           0.41       128\n",
      "   macro avg       0.61      0.37      0.38       128\n",
      "weighted avg       0.45      0.41      0.37       128\n",
      "\n"
     ]
    }
   ],
   "source": [
    "# Classification report\n",
    "print('\\t\\t\\t\\tCLASSIFICATIION METRICS\\n')\n",
    "print(metrics.classification_report(target_test, predicted_target, \n",
    "                                    target_names= df1['Potential Accident Level'].unique()))"
   ]
  },
  {
   "cell_type": "markdown",
   "metadata": {},
   "source": [
    "- ##### Performace of the RF-classifer is very poor\n",
    "- ##### We will change the dataset with stopwords and re-do"
   ]
  },
  {
   "cell_type": "code",
   "execution_count": 44,
   "metadata": {},
   "outputs": [],
   "source": [
    "features_tfidf1 = tfidf_vectorizer(df2['Description'])\n",
    "target_label1  = df2.Potential_Accident_Level_Id"
   ]
  },
  {
   "cell_type": "code",
   "execution_count": 45,
   "metadata": {},
   "outputs": [],
   "source": [
    "# test_size is 0.3 as train : test is 70:30\n",
    "features_train1, features_test1, target_train1, target_test1 = train_test_split(features_tfidf1, target_label1, test_size=0.3, random_state=1)"
   ]
  },
  {
   "cell_type": "code",
   "execution_count": 46,
   "metadata": {},
   "outputs": [
    {
     "name": "stdout",
     "output_type": "stream",
     "text": [
      "Score - Random forest : 41.4 %\n"
     ]
    }
   ],
   "source": [
    "rndm_clf1 = RandomForestClassifier(n_estimators = 1000, n_jobs=-1)\n",
    "rndm_clf1 = rndm_clf1.fit(features_train1, target_train1)\n",
    "#score\n",
    "predicted_target1 = rndm_clf1.predict(features_test1)\n",
    "score_rf1 = round(rndm_clf1.score(features_test1, target_test1),3)*100\n",
    "print(\"Score - Random forest :\",score_rf,\"%\")"
   ]
  },
  {
   "cell_type": "code",
   "execution_count": 47,
   "metadata": {},
   "outputs": [
    {
     "name": "stdout",
     "output_type": "stream",
     "text": [
      "\t\t\t\tCLASSIFICATIION METRICS\n",
      "\n",
      "              precision    recall  f1-score   support\n",
      "\n",
      "          IV       0.42      0.84      0.56        45\n",
      "         III       0.13      0.07      0.09        29\n",
      "           I       1.00      0.60      0.75        10\n",
      "          II       0.38      0.17      0.23        36\n",
      "           V       1.00      0.12      0.22         8\n",
      "\n",
      "    accuracy                           0.41       128\n",
      "   macro avg       0.59      0.36      0.37       128\n",
      "weighted avg       0.42      0.41      0.36       128\n",
      "\n"
     ]
    }
   ],
   "source": [
    "# Classification report\n",
    "print('\\t\\t\\t\\tCLASSIFICATIION METRICS\\n')\n",
    "print(metrics.classification_report(target_test1, predicted_target1, \n",
    "                                    target_names= df2['Potential Accident Level'].unique()))"
   ]
  },
  {
   "cell_type": "markdown",
   "metadata": {},
   "source": [
    "- #### Random Forest has failed to performed very poorly overall in this text classification"
   ]
  },
  {
   "cell_type": "code",
   "execution_count": null,
   "metadata": {},
   "outputs": [],
   "source": []
  },
  {
   "cell_type": "markdown",
   "metadata": {},
   "source": [
    "> ## Text Classification with FastText"
   ]
  },
  {
   "cell_type": "code",
   "execution_count": 48,
   "metadata": {},
   "outputs": [],
   "source": [
    "import fasttext "
   ]
  },
  {
   "cell_type": "code",
   "execution_count": 49,
   "metadata": {},
   "outputs": [
    {
     "data": {
      "text/html": [
       "<div>\n",
       "<style scoped>\n",
       "    .dataframe tbody tr th:only-of-type {\n",
       "        vertical-align: middle;\n",
       "    }\n",
       "\n",
       "    .dataframe tbody tr th {\n",
       "        vertical-align: top;\n",
       "    }\n",
       "\n",
       "    .dataframe thead th {\n",
       "        text-align: right;\n",
       "    }\n",
       "</style>\n",
       "<table border=\"1\" class=\"dataframe\">\n",
       "  <thead>\n",
       "    <tr style=\"text-align: right;\">\n",
       "      <th></th>\n",
       "      <th>Potential Accident Level</th>\n",
       "      <th>Updated Description</th>\n",
       "    </tr>\n",
       "  </thead>\n",
       "  <tbody>\n",
       "    <tr>\n",
       "      <th>0</th>\n",
       "      <td>__label__IV</td>\n",
       "      <td>remove drill rod jumbo maintenance supervisor ...</td>\n",
       "    </tr>\n",
       "    <tr>\n",
       "      <th>1</th>\n",
       "      <td>__label__IV</td>\n",
       "      <td>activation sodium sulphide pump pip uncouple s...</td>\n",
       "    </tr>\n",
       "    <tr>\n",
       "      <th>2</th>\n",
       "      <td>__label__III</td>\n",
       "      <td>sub station milpo locate level collaborator ex...</td>\n",
       "    </tr>\n",
       "    <tr>\n",
       "      <th>3</th>\n",
       "      <td>__label__I</td>\n",
       "      <td>approximately personnel begin task unlock soqu...</td>\n",
       "    </tr>\n",
       "    <tr>\n",
       "      <th>4</th>\n",
       "      <td>__label__IV</td>\n",
       "      <td>approximately circumstances mechanics anthony ...</td>\n",
       "    </tr>\n",
       "    <tr>\n",
       "      <th>5</th>\n",
       "      <td>__label__III</td>\n",
       "      <td>unload operation ustulado bag need unclog disc...</td>\n",
       "    </tr>\n",
       "    <tr>\n",
       "      <th>6</th>\n",
       "      <td>__label__III</td>\n",
       "      <td>collaborator report street hold leave hand vol...</td>\n",
       "    </tr>\n",
       "    <tr>\n",
       "      <th>7</th>\n",
       "      <td>__label__III</td>\n",
       "      <td>approximately mechanic technician jos tecnomin...</td>\n",
       "    </tr>\n",
       "    <tr>\n",
       "      <th>8</th>\n",
       "      <td>__label__IV</td>\n",
       "      <td>employee sit rest area level raise bore suffer...</td>\n",
       "    </tr>\n",
       "    <tr>\n",
       "      <th>9</th>\n",
       "      <td>__label__II</td>\n",
       "      <td>moment forklift operator manipulate big bag bi...</td>\n",
       "    </tr>\n",
       "    <tr>\n",
       "      <th>10</th>\n",
       "      <td>__label__III</td>\n",
       "      <td>instal segment polyurethane pulley protective ...</td>\n",
       "    </tr>\n",
       "    <tr>\n",
       "      <th>11</th>\n",
       "      <td>__label__IV</td>\n",
       "      <td>prepare rice lunch day move pot weight include...</td>\n",
       "    </tr>\n",
       "    <tr>\n",
       "      <th>12</th>\n",
       "      <td>__label__I</td>\n",
       "      <td>collaborator report work ustulaci realize cycl...</td>\n",
       "    </tr>\n",
       "    <tr>\n",
       "      <th>13</th>\n",
       "      <td>__label__V</td>\n",
       "      <td>moments operator jumbo try energize equipment ...</td>\n",
       "    </tr>\n",
       "    <tr>\n",
       "      <th>14</th>\n",
       "      <td>__label__III</td>\n",
       "      <td>due accumulation waelz conveyor trailer filter...</td>\n",
       "    </tr>\n",
       "  </tbody>\n",
       "</table>\n",
       "</div>"
      ],
      "text/plain": [
       "   Potential Accident Level                                Updated Description\n",
       "0               __label__IV  remove drill rod jumbo maintenance supervisor ...\n",
       "1               __label__IV  activation sodium sulphide pump pip uncouple s...\n",
       "2              __label__III  sub station milpo locate level collaborator ex...\n",
       "3                __label__I  approximately personnel begin task unlock soqu...\n",
       "4               __label__IV  approximately circumstances mechanics anthony ...\n",
       "5              __label__III  unload operation ustulado bag need unclog disc...\n",
       "6              __label__III  collaborator report street hold leave hand vol...\n",
       "7              __label__III  approximately mechanic technician jos tecnomin...\n",
       "8               __label__IV  employee sit rest area level raise bore suffer...\n",
       "9               __label__II  moment forklift operator manipulate big bag bi...\n",
       "10             __label__III  instal segment polyurethane pulley protective ...\n",
       "11              __label__IV  prepare rice lunch day move pot weight include...\n",
       "12               __label__I  collaborator report work ustulaci realize cycl...\n",
       "13               __label__V  moments operator jumbo try energize equipment ...\n",
       "14             __label__III  due accumulation waelz conveyor trailer filter..."
      ]
     },
     "execution_count": 49,
     "metadata": {},
     "output_type": "execute_result"
    }
   ],
   "source": [
    "#FastText expects __label__ in each label\n",
    "df_ftxt = industrial_safety_df[['Potential Accident Level', 'Updated Description']].copy()\n",
    "df_ftxt['Potential Accident Level'] = ['__label__'+s for s in df_ftxt['Potential Accident Level']]\n",
    "df_ftxt.head(15)"
   ]
  },
  {
   "cell_type": "code",
   "execution_count": 50,
   "metadata": {},
   "outputs": [
    {
     "data": {
      "text/plain": [
       "(425, 2)"
      ]
     },
     "execution_count": 50,
     "metadata": {},
     "output_type": "execute_result"
    }
   ],
   "source": [
    "#saving as txt file\n",
    "import csv\n",
    "df_ftxt[['Potential Accident Level','Updated Description']].to_csv(r'/Users/Chandan/Anaconda-python-practices/Ensamble Technique/fasttext.datas-fasttext.txt', \n",
    "                                          index = False, \n",
    "                                          sep = ' ',\n",
    "                                          header = None, \n",
    "                                          quoting = csv.QUOTE_NONE, \n",
    "                                          quotechar = \"\", \n",
    "                                          escapechar = \" \")\n",
    "df_ftxt.shape"
   ]
  },
  {
   "cell_type": "markdown",
   "metadata": {},
   "source": [
    "- #### the dataset has total 425 records. We will take 80% for training and 20% to test"
   ]
  },
  {
   "cell_type": "markdown",
   "metadata": {},
   "source": [
    ">- Two dataset has been created using CLI\n",
    ">- head -n 340 fasttext.datas-fasttext.txt > fastext.datas-fasttext-train.txt\n",
    ">- head -n 85 fasttext.datas-fasttext.txt > fastext.datas-fasttext-test.txt"
   ]
  },
  {
   "cell_type": "markdown",
   "metadata": {},
   "source": [
    "### Training & Evaluation of FastText\n",
    ">To improve the performance of our model the wordNgrams parameter is set to 2. In other words, the model is being trained on bigrams instead of considering individual words."
   ]
  },
  {
   "cell_type": "code",
   "execution_count": 60,
   "metadata": {},
   "outputs": [],
   "source": [
    "# Training the fastText classifier\n",
    "ftxt_clf = fasttext.train_supervised('fastext.datas-fasttext-train.txt', wordNgrams = 2, epoch=300)\n",
    "# Save the trained model\n",
    "ftxt_clf.save_model('model.bin')\n"
   ]
  },
  {
   "cell_type": "code",
   "execution_count": 65,
   "metadata": {},
   "outputs": [
    {
     "data": {
      "text/plain": [
       "(340, 0.9970588235294118, 0.9970588235294118)"
      ]
     },
     "execution_count": 65,
     "metadata": {},
     "output_type": "execute_result"
    }
   ],
   "source": [
    "# Evaluating performance on the entire test file\n",
    "ftxt_clf.test('fastext.datas-fasttext-train.txt')                      "
   ]
  },
  {
   "cell_type": "code",
   "execution_count": 71,
   "metadata": {},
   "outputs": [],
   "source": [
    "df_ftxt['pred']=df_ftxt['Updated Description'].map(lambda x: ftxt_clf.predict(x)[0][0])"
   ]
  },
  {
   "cell_type": "code",
   "execution_count": 76,
   "metadata": {},
   "outputs": [
    {
     "name": "stdout",
     "output_type": "stream",
     "text": [
      "(425, 3) (56, 3)\n"
     ]
    }
   ],
   "source": [
    "print(df_ftxt.shape,df_ftxt[df_ftxt.apply(lambda x: x['Potential Accident Level']!= x['pred'],axis=1)].shape)"
   ]
  },
  {
   "cell_type": "code",
   "execution_count": 77,
   "metadata": {},
   "outputs": [
    {
     "name": "stdout",
     "output_type": "stream",
     "text": [
      "\t\t\t\tCLASSIFICATIION METRICS\n",
      "\n",
      "              precision    recall  f1-score   support\n",
      "\n",
      " __label__IV       0.97      0.80      0.88        49\n",
      "__label__III       0.78      0.87      0.83        95\n",
      "  __label__I       0.83      0.93      0.88       106\n",
      " __label__II       0.91      0.90      0.90       143\n",
      "  __label__V       1.00      0.61      0.76        31\n",
      " __label__VI       1.00      1.00      1.00         1\n",
      "\n",
      "    accuracy                           0.87       425\n",
      "   macro avg       0.92      0.85      0.87       425\n",
      "weighted avg       0.88      0.87      0.87       425\n",
      "\n"
     ]
    }
   ],
   "source": [
    "print('\\t\\t\\t\\tCLASSIFICATIION METRICS\\n')\n",
    "print(metrics.classification_report(df_ftxt['Potential Accident Level'], df_ftxt['pred'], \n",
    "                                    target_names= df_ftxt['Potential Accident Level'].unique()))"
   ]
  },
  {
   "cell_type": "code",
   "execution_count": 72,
   "metadata": {},
   "outputs": [
    {
     "data": {
      "text/html": [
       "<div>\n",
       "<style scoped>\n",
       "    .dataframe tbody tr th:only-of-type {\n",
       "        vertical-align: middle;\n",
       "    }\n",
       "\n",
       "    .dataframe tbody tr th {\n",
       "        vertical-align: top;\n",
       "    }\n",
       "\n",
       "    .dataframe thead th {\n",
       "        text-align: right;\n",
       "    }\n",
       "</style>\n",
       "<table border=\"1\" class=\"dataframe\">\n",
       "  <thead>\n",
       "    <tr style=\"text-align: right;\">\n",
       "      <th></th>\n",
       "      <th>Potential Accident Level</th>\n",
       "      <th>Updated Description</th>\n",
       "      <th>pred</th>\n",
       "    </tr>\n",
       "  </thead>\n",
       "  <tbody>\n",
       "    <tr>\n",
       "      <th>0</th>\n",
       "      <td>__label__IV</td>\n",
       "      <td>remove drill rod jumbo maintenance supervisor ...</td>\n",
       "      <td>__label__IV</td>\n",
       "    </tr>\n",
       "    <tr>\n",
       "      <th>1</th>\n",
       "      <td>__label__IV</td>\n",
       "      <td>activation sodium sulphide pump pip uncouple s...</td>\n",
       "      <td>__label__IV</td>\n",
       "    </tr>\n",
       "    <tr>\n",
       "      <th>2</th>\n",
       "      <td>__label__III</td>\n",
       "      <td>sub station milpo locate level collaborator ex...</td>\n",
       "      <td>__label__III</td>\n",
       "    </tr>\n",
       "    <tr>\n",
       "      <th>3</th>\n",
       "      <td>__label__I</td>\n",
       "      <td>approximately personnel begin task unlock soqu...</td>\n",
       "      <td>__label__I</td>\n",
       "    </tr>\n",
       "    <tr>\n",
       "      <th>4</th>\n",
       "      <td>__label__IV</td>\n",
       "      <td>approximately circumstances mechanics anthony ...</td>\n",
       "      <td>__label__IV</td>\n",
       "    </tr>\n",
       "  </tbody>\n",
       "</table>\n",
       "</div>"
      ],
      "text/plain": [
       "  Potential Accident Level                                Updated Description  \\\n",
       "0              __label__IV  remove drill rod jumbo maintenance supervisor ...   \n",
       "1              __label__IV  activation sodium sulphide pump pip uncouple s...   \n",
       "2             __label__III  sub station milpo locate level collaborator ex...   \n",
       "3               __label__I  approximately personnel begin task unlock soqu...   \n",
       "4              __label__IV  approximately circumstances mechanics anthony ...   \n",
       "\n",
       "           pred  \n",
       "0   __label__IV  \n",
       "1   __label__IV  \n",
       "2  __label__III  \n",
       "3    __label__I  \n",
       "4   __label__IV  "
      ]
     },
     "execution_count": 72,
     "metadata": {},
     "output_type": "execute_result"
    }
   ],
   "source": [
    "# Predicting on a single input\n",
    "ftxt_clf.predict(df_ftxt.iloc[2,0])\n",
    "df_ftxt.head()"
   ]
  },
  {
   "cell_type": "markdown",
   "metadata": {},
   "source": [
    "- #### Performance Tuning-FastText\n",
    "> We will use gensim’s simple_preprocess method to tokenize our questions and remove symbols."
   ]
  },
  {
   "cell_type": "code",
   "execution_count": 54,
   "metadata": {},
   "outputs": [
    {
     "data": {
      "text/html": [
       "<div>\n",
       "<style scoped>\n",
       "    .dataframe tbody tr th:only-of-type {\n",
       "        vertical-align: middle;\n",
       "    }\n",
       "\n",
       "    .dataframe tbody tr th {\n",
       "        vertical-align: top;\n",
       "    }\n",
       "\n",
       "    .dataframe thead th {\n",
       "        text-align: right;\n",
       "    }\n",
       "</style>\n",
       "<table border=\"1\" class=\"dataframe\">\n",
       "  <thead>\n",
       "    <tr style=\"text-align: right;\">\n",
       "      <th></th>\n",
       "      <th>Potential Accident Level</th>\n",
       "      <th>Description</th>\n",
       "    </tr>\n",
       "  </thead>\n",
       "  <tbody>\n",
       "    <tr>\n",
       "      <th>318</th>\n",
       "      <td>__label__IV</td>\n",
       "      <td>being hours approximately in circumstances tha...</td>\n",
       "    </tr>\n",
       "    <tr>\n",
       "      <th>232</th>\n",
       "      <td>__label__III</td>\n",
       "      <td>in the probe bore bapdd around hours the polli...</td>\n",
       "    </tr>\n",
       "    <tr>\n",
       "      <th>325</th>\n",
       "      <td>__label__III</td>\n",
       "      <td>while preparing to mount polypropylene tubing ...</td>\n",
       "    </tr>\n",
       "    <tr>\n",
       "      <th>127</th>\n",
       "      <td>__label__III</td>\n",
       "      <td>during the tests of the soft starter of the en...</td>\n",
       "    </tr>\n",
       "    <tr>\n",
       "      <th>82</th>\n",
       "      <td>__label__IV</td>\n",
       "      <td>when it opens the suction valve of the bo acid...</td>\n",
       "    </tr>\n",
       "  </tbody>\n",
       "</table>\n",
       "</div>"
      ],
      "text/plain": [
       "    Potential Accident Level  \\\n",
       "318              __label__IV   \n",
       "232             __label__III   \n",
       "325             __label__III   \n",
       "127             __label__III   \n",
       "82               __label__IV   \n",
       "\n",
       "                                           Description  \n",
       "318  being hours approximately in circumstances tha...  \n",
       "232  in the probe bore bapdd around hours the polli...  \n",
       "325  while preparing to mount polypropylene tubing ...  \n",
       "127  during the tests of the soft starter of the en...  \n",
       "82   when it opens the suction valve of the bo acid...  "
      ]
     },
     "execution_count": 54,
     "metadata": {},
     "output_type": "execute_result"
    }
   ],
   "source": [
    "# NLP Preprocessing\n",
    "from gensim.utils import simple_preprocess\n",
    "df = industrial_safety_df[['Potential Accident Level', 'Description']].copy()\n",
    "df.shape                          \n",
    "#dataset for training with preprocesed text\n",
    "df_ftxt_train, df_ftxt_test, y1, y2 = train_test_split(df,df,test_size=0.3, random_state=1)\n",
    "\n",
    "df_ftxt_train.iloc[:, 1] = df_ftxt_train.iloc[:, 1].apply(lambda x: ' '.join(simple_preprocess(x)))\n",
    "df_ftxt_test.iloc[:, 1] = df_ftxt_test.iloc[:, 1].apply(lambda x: ' '.join(simple_preprocess(x)))\n",
    "\n",
    "# Prefixing each row of the 'Potential Accident Level' column with '__label__'\n",
    "df_ftxt_train.iloc[:, 0] = df_ftxt_train.iloc[:, 0].apply(lambda x: '__label__' + x)\n",
    "df_ftxt_test.iloc[:, 0] = df_ftxt_test.iloc[:, 0].apply(lambda x: '__label__' + x)\n",
    "df_ftxt_train.head()\n",
    "#df.shape                                                         "
   ]
  },
  {
   "cell_type": "code",
   "execution_count": 55,
   "metadata": {},
   "outputs": [],
   "source": [
    "#saving into text files\n",
    "df_ftxt_train[['Potential Accident Level', 'Description']].to_csv('data-fasttext-train.txt', \n",
    "                                          index = False, \n",
    "                                          sep = ' ',\n",
    "                                          header = None, \n",
    "                                          quoting = csv.QUOTE_NONE, \n",
    "                                          quotechar = \"\", \n",
    "                                          escapechar = \" \")\n",
    "\n",
    "df_ftxt_test[['Potential Accident Level', 'Description']].to_csv('data-fasttext-test.txt', \n",
    "                                          index = False, \n",
    "                                          sep = ' ',\n",
    "                                          header = None, \n",
    "                                          quoting = csv.QUOTE_NONE, \n",
    "                                          quotechar = \"\", \n",
    "                                          escapechar = \" \")"
   ]
  },
  {
   "cell_type": "markdown",
   "metadata": {},
   "source": [
    "### Training and Performance Evaluation"
   ]
  },
  {
   "cell_type": "code",
   "execution_count": 56,
   "metadata": {},
   "outputs": [],
   "source": [
    "# Training the fastText classifier\n",
    "ftxt_clf_gensim = fasttext.train_supervised('data-fasttext-train.txt', wordNgrams = 4, epoch=75, lr=0.5, loss='ova')\n",
    "# Save the trained model\n",
    "#model.save_model('model.bin')"
   ]
  },
  {
   "cell_type": "code",
   "execution_count": 57,
   "metadata": {},
   "outputs": [
    {
     "data": {
      "text/plain": [
       "(128, 0.4609375, 0.4609375)"
      ]
     },
     "execution_count": 57,
     "metadata": {},
     "output_type": "execute_result"
    }
   ],
   "source": [
    "# Evaluating performance on the entire test file\n",
    "ftxt_clf_gensim.test('data-fasttext-test.txt')   "
   ]
  },
  {
   "cell_type": "code",
   "execution_count": 58,
   "metadata": {},
   "outputs": [
    {
     "data": {
      "text/html": [
       "<div>\n",
       "<style scoped>\n",
       "    .dataframe tbody tr th:only-of-type {\n",
       "        vertical-align: middle;\n",
       "    }\n",
       "\n",
       "    .dataframe tbody tr th {\n",
       "        vertical-align: top;\n",
       "    }\n",
       "\n",
       "    .dataframe thead th {\n",
       "        text-align: right;\n",
       "    }\n",
       "</style>\n",
       "<table border=\"1\" class=\"dataframe\">\n",
       "  <thead>\n",
       "    <tr style=\"text-align: right;\">\n",
       "      <th></th>\n",
       "      <th>Potential Accident Level</th>\n",
       "      <th>Description</th>\n",
       "    </tr>\n",
       "  </thead>\n",
       "  <tbody>\n",
       "    <tr>\n",
       "      <th>172</th>\n",
       "      <td>__label__II</td>\n",
       "      <td>at level at the entrance of the locomotive wor...</td>\n",
       "    </tr>\n",
       "    <tr>\n",
       "      <th>78</th>\n",
       "      <td>__label__II</td>\n",
       "      <td>when accessing the santa do novo area in order...</td>\n",
       "    </tr>\n",
       "    <tr>\n",
       "      <th>122</th>\n",
       "      <td>__label__III</td>\n",
       "      <td>during the maintenance on the lx pump there wa...</td>\n",
       "    </tr>\n",
       "    <tr>\n",
       "      <th>376</th>\n",
       "      <td>__label__IV</td>\n",
       "      <td>on the employee de lima da silva was composing...</td>\n",
       "    </tr>\n",
       "    <tr>\n",
       "      <th>146</th>\n",
       "      <td>__label__IV</td>\n",
       "      <td>once the mooring of the faneles in the detonat...</td>\n",
       "    </tr>\n",
       "  </tbody>\n",
       "</table>\n",
       "</div>"
      ],
      "text/plain": [
       "    Potential Accident Level  \\\n",
       "172              __label__II   \n",
       "78               __label__II   \n",
       "122             __label__III   \n",
       "376              __label__IV   \n",
       "146              __label__IV   \n",
       "\n",
       "                                           Description  \n",
       "172  at level at the entrance of the locomotive wor...  \n",
       "78   when accessing the santa do novo area in order...  \n",
       "122  during the maintenance on the lx pump there wa...  \n",
       "376  on the employee de lima da silva was composing...  \n",
       "146  once the mooring of the faneles in the detonat...  "
      ]
     },
     "execution_count": 58,
     "metadata": {},
     "output_type": "execute_result"
    }
   ],
   "source": [
    "df_ftxt_test.head()"
   ]
  },
  {
   "cell_type": "code",
   "execution_count": null,
   "metadata": {},
   "outputs": [],
   "source": []
  },
  {
   "cell_type": "code",
   "execution_count": 59,
   "metadata": {},
   "outputs": [
    {
     "data": {
      "text/plain": [
       "(('__label__II', '__label__III'), array([1.00001001, 1.00001001]))"
      ]
     },
     "execution_count": 59,
     "metadata": {},
     "output_type": "execute_result"
    }
   ],
   "source": [
    "# Predicting on a single input\n",
    "ftxt_clf_gensim.predict(df_ftxt_test.iloc[2, 0], k=-1, threshold=0.75)"
   ]
  },
  {
   "cell_type": "code",
   "execution_count": null,
   "metadata": {},
   "outputs": [],
   "source": []
  }
 ],
 "metadata": {
  "kernelspec": {
   "display_name": "Python 3",
   "language": "python",
   "name": "python3"
  },
  "language_info": {
   "codemirror_mode": {
    "name": "ipython",
    "version": 3
   },
   "file_extension": ".py",
   "mimetype": "text/x-python",
   "name": "python",
   "nbconvert_exporter": "python",
   "pygments_lexer": "ipython3",
   "version": "3.8.5"
  }
 },
 "nbformat": 4,
 "nbformat_minor": 4
}
